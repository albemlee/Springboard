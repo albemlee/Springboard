{
 "cells": [
  {
   "cell_type": "markdown",
   "metadata": {},
   "source": [
    "# Summary\n",
    "\n",
    "To identify factors that predict user adoption, I first conducted hypothesis tests. For numerical features, I conducted two-sample t tests, and for categorical features, I conducted chi-squared tests.\n",
    "\n",
    "After identifying the factors that predict user adoption, I used them to create a predictive model to evaluate their predictive power. I chose to implement a gradient boosting model with XGBoost because its performance is not negatively impacted by correlated features.\n",
    "\n",
    "Through this approach, I created a predictive model with log-loss score of 0.07 and accuracy score of 0.97. These scores are very encouraging, and even better performance could be achieved by tuning model hyperparameters.\n",
    "\n",
    "## Hypothesis Testing Results\n",
    "\n",
    "Before conducting hypothesis tests, I created new features. The new features I created are:\n",
    "- creation_quarter: Quarter (i.e. 2012Q1) when user created account\n",
    "- days_from_creation: Days since account creation date\n",
    "- last_session_quarter: Quarter (i.e. 2012Q1) when user last logged in\n",
    "- days_from_last_session: Days since last user login\n",
    "- logged_in: Whether user has logged into his or her account at least once\n",
    "- invited: Whether user was invited by another user to create an account\n",
    "\n",
    "The table below displays the hypothesis test results. Conclusions were based on a significance level of 0.05.\n",
    "\n",
    "| Factor | Type | P-Value | Conclusion |\n",
    "| --- | --- | --- | --- |\n",
    "| creation_quarter | Categorical | < 0.001 | Significant |\n",
    "| days_from_creation | Numerical | 0.003 | Significant |\n",
    "| last_session_quarter | Categorical | < 0.001 | Significant |\n",
    "| days_from_last_session | Categorical | < 0.001 | Significant |\n",
    "| logged_in | Numerical | < 0.001 | Significant |\n",
    "| opted_in_to_mailing_list | Categorical | 0.392 | Insignificant |\n",
    "| enabled_for_marketing_drip | Categorical | 0.637 | Insignificant |\n",
    "| org_id | Categorical | < 0.001 | Significant |\n",
    "| invited_by_user_id | Categorical | 0.217 | Insignificant |\n",
    "| invited | Categorical | 0.002 | Significant |\n",
    "\n",
    "The most important features for prediction were days from last session and days from creation. Neither the mailing list nor the marketing drip were effective in changing user behavior. It was also interested that being invited by another user was predictive and it didn’t matter which user sent the invite."
   ]
  },
  {
   "cell_type": "markdown",
   "metadata": {},
   "source": [
    "# Setup Notebook\n",
    "\n",
    "To setup the notebook, I added imported the required libraries and data. For the dataframes, I also specified type for each column."
   ]
  },
  {
   "cell_type": "code",
   "execution_count": 1,
   "metadata": {},
   "outputs": [],
   "source": [
    "# Load Requirements\n",
    "import pandas as pd\n",
    "import numpy as np\n",
    "import datetime as dt\n",
    "import matplotlib.pyplot as plt\n",
    "from scipy import stats\n",
    "from sklearn.model_selection import train_test_split\n",
    "from sklearn.pipeline import Pipeline\n",
    "from xgboost import XGBClassifier, plot_importance\n",
    "from sklearn.metrics import log_loss, accuracy_score, confusion_matrix\n",
    "import warnings\n",
    "warnings.simplefilter(\"ignore\", category=DeprecationWarning)"
   ]
  },
  {
   "cell_type": "code",
   "execution_count": 2,
   "metadata": {},
   "outputs": [],
   "source": [
    "# Load Data\n",
    "dtype_users = {\n",
    "    'object_id': str, \n",
    "    'creation_time': str, \n",
    "    'name': str, \n",
    "    'email':str, \n",
    "    'creation_source': 'category',\n",
    "    'last_session_creation_time': str, \n",
    "    'opted_in_to_mailing_list': 'category',\n",
    "    'enabled_for_marketing_drip': 'category', \n",
    "    'org_id': str, \n",
    "    'invited_by_user_id': str\n",
    "}\n",
    "\n",
    "dtype_user_engagement = {\n",
    "    'time_stamp': str, \n",
    "    'user_id': str, \n",
    "    'visited': int\n",
    "}\n",
    "\n",
    "users = pd.read_csv('takehome_users.csv', encoding='windows-1252', dtype=dtype_users)\n",
    "user_engagement = pd.read_csv('takehome_user_engagement.csv', dtype=dtype_user_engagement)"
   ]
  },
  {
   "cell_type": "code",
   "execution_count": 3,
   "metadata": {},
   "outputs": [
    {
     "data": {
      "text/html": [
       "<div>\n",
       "<style scoped>\n",
       "    .dataframe tbody tr th:only-of-type {\n",
       "        vertical-align: middle;\n",
       "    }\n",
       "\n",
       "    .dataframe tbody tr th {\n",
       "        vertical-align: top;\n",
       "    }\n",
       "\n",
       "    .dataframe thead th {\n",
       "        text-align: right;\n",
       "    }\n",
       "</style>\n",
       "<table border=\"1\" class=\"dataframe\">\n",
       "  <thead>\n",
       "    <tr style=\"text-align: right;\">\n",
       "      <th></th>\n",
       "      <th>object_id</th>\n",
       "      <th>creation_time</th>\n",
       "      <th>name</th>\n",
       "      <th>email</th>\n",
       "      <th>creation_source</th>\n",
       "      <th>last_session_creation_time</th>\n",
       "      <th>opted_in_to_mailing_list</th>\n",
       "      <th>enabled_for_marketing_drip</th>\n",
       "      <th>org_id</th>\n",
       "      <th>invited_by_user_id</th>\n",
       "    </tr>\n",
       "  </thead>\n",
       "  <tbody>\n",
       "    <tr>\n",
       "      <th>0</th>\n",
       "      <td>1</td>\n",
       "      <td>2014-04-22 03:53:30</td>\n",
       "      <td>Clausen August</td>\n",
       "      <td>AugustCClausen@yahoo.com</td>\n",
       "      <td>GUEST_INVITE</td>\n",
       "      <td>1398138810</td>\n",
       "      <td>1</td>\n",
       "      <td>0</td>\n",
       "      <td>11</td>\n",
       "      <td>10803</td>\n",
       "    </tr>\n",
       "    <tr>\n",
       "      <th>1</th>\n",
       "      <td>2</td>\n",
       "      <td>2013-11-15 03:45:04</td>\n",
       "      <td>Poole Matthew</td>\n",
       "      <td>MatthewPoole@gustr.com</td>\n",
       "      <td>ORG_INVITE</td>\n",
       "      <td>1396237504</td>\n",
       "      <td>0</td>\n",
       "      <td>0</td>\n",
       "      <td>1</td>\n",
       "      <td>316</td>\n",
       "    </tr>\n",
       "    <tr>\n",
       "      <th>2</th>\n",
       "      <td>3</td>\n",
       "      <td>2013-03-19 23:14:52</td>\n",
       "      <td>Bottrill Mitchell</td>\n",
       "      <td>MitchellBottrill@gustr.com</td>\n",
       "      <td>ORG_INVITE</td>\n",
       "      <td>1363734892</td>\n",
       "      <td>0</td>\n",
       "      <td>0</td>\n",
       "      <td>94</td>\n",
       "      <td>1525</td>\n",
       "    </tr>\n",
       "    <tr>\n",
       "      <th>3</th>\n",
       "      <td>4</td>\n",
       "      <td>2013-05-21 08:09:28</td>\n",
       "      <td>Clausen Nicklas</td>\n",
       "      <td>NicklasSClausen@yahoo.com</td>\n",
       "      <td>GUEST_INVITE</td>\n",
       "      <td>1369210168</td>\n",
       "      <td>0</td>\n",
       "      <td>0</td>\n",
       "      <td>1</td>\n",
       "      <td>5151</td>\n",
       "    </tr>\n",
       "    <tr>\n",
       "      <th>4</th>\n",
       "      <td>5</td>\n",
       "      <td>2013-01-17 10:14:20</td>\n",
       "      <td>Raw Grace</td>\n",
       "      <td>GraceRaw@yahoo.com</td>\n",
       "      <td>GUEST_INVITE</td>\n",
       "      <td>1358849660</td>\n",
       "      <td>0</td>\n",
       "      <td>0</td>\n",
       "      <td>193</td>\n",
       "      <td>5240</td>\n",
       "    </tr>\n",
       "  </tbody>\n",
       "</table>\n",
       "</div>"
      ],
      "text/plain": [
       "  object_id        creation_time               name  \\\n",
       "0         1  2014-04-22 03:53:30     Clausen August   \n",
       "1         2  2013-11-15 03:45:04      Poole Matthew   \n",
       "2         3  2013-03-19 23:14:52  Bottrill Mitchell   \n",
       "3         4  2013-05-21 08:09:28    Clausen Nicklas   \n",
       "4         5  2013-01-17 10:14:20          Raw Grace   \n",
       "\n",
       "                        email creation_source last_session_creation_time  \\\n",
       "0    AugustCClausen@yahoo.com    GUEST_INVITE                 1398138810   \n",
       "1      MatthewPoole@gustr.com      ORG_INVITE                 1396237504   \n",
       "2  MitchellBottrill@gustr.com      ORG_INVITE                 1363734892   \n",
       "3   NicklasSClausen@yahoo.com    GUEST_INVITE                 1369210168   \n",
       "4          GraceRaw@yahoo.com    GUEST_INVITE                 1358849660   \n",
       "\n",
       "  opted_in_to_mailing_list enabled_for_marketing_drip org_id  \\\n",
       "0                        1                          0     11   \n",
       "1                        0                          0      1   \n",
       "2                        0                          0     94   \n",
       "3                        0                          0      1   \n",
       "4                        0                          0    193   \n",
       "\n",
       "  invited_by_user_id  \n",
       "0              10803  \n",
       "1                316  \n",
       "2               1525  \n",
       "3               5151  \n",
       "4               5240  "
      ]
     },
     "execution_count": 3,
     "metadata": {},
     "output_type": "execute_result"
    }
   ],
   "source": [
    "users.head(5)"
   ]
  },
  {
   "cell_type": "code",
   "execution_count": 4,
   "metadata": {},
   "outputs": [
    {
     "data": {
      "text/html": [
       "<div>\n",
       "<style scoped>\n",
       "    .dataframe tbody tr th:only-of-type {\n",
       "        vertical-align: middle;\n",
       "    }\n",
       "\n",
       "    .dataframe tbody tr th {\n",
       "        vertical-align: top;\n",
       "    }\n",
       "\n",
       "    .dataframe thead th {\n",
       "        text-align: right;\n",
       "    }\n",
       "</style>\n",
       "<table border=\"1\" class=\"dataframe\">\n",
       "  <thead>\n",
       "    <tr style=\"text-align: right;\">\n",
       "      <th></th>\n",
       "      <th>time_stamp</th>\n",
       "      <th>user_id</th>\n",
       "      <th>visited</th>\n",
       "    </tr>\n",
       "  </thead>\n",
       "  <tbody>\n",
       "    <tr>\n",
       "      <th>0</th>\n",
       "      <td>2014-04-22 03:53:30</td>\n",
       "      <td>1</td>\n",
       "      <td>1</td>\n",
       "    </tr>\n",
       "    <tr>\n",
       "      <th>1</th>\n",
       "      <td>2013-11-15 03:45:04</td>\n",
       "      <td>2</td>\n",
       "      <td>1</td>\n",
       "    </tr>\n",
       "    <tr>\n",
       "      <th>2</th>\n",
       "      <td>2013-11-29 03:45:04</td>\n",
       "      <td>2</td>\n",
       "      <td>1</td>\n",
       "    </tr>\n",
       "    <tr>\n",
       "      <th>3</th>\n",
       "      <td>2013-12-09 03:45:04</td>\n",
       "      <td>2</td>\n",
       "      <td>1</td>\n",
       "    </tr>\n",
       "    <tr>\n",
       "      <th>4</th>\n",
       "      <td>2013-12-25 03:45:04</td>\n",
       "      <td>2</td>\n",
       "      <td>1</td>\n",
       "    </tr>\n",
       "  </tbody>\n",
       "</table>\n",
       "</div>"
      ],
      "text/plain": [
       "            time_stamp user_id  visited\n",
       "0  2014-04-22 03:53:30       1        1\n",
       "1  2013-11-15 03:45:04       2        1\n",
       "2  2013-11-29 03:45:04       2        1\n",
       "3  2013-12-09 03:45:04       2        1\n",
       "4  2013-12-25 03:45:04       2        1"
      ]
     },
     "execution_count": 4,
     "metadata": {},
     "output_type": "execute_result"
    }
   ],
   "source": [
    "user_engagement.head(5)"
   ]
  },
  {
   "cell_type": "markdown",
   "metadata": {},
   "source": [
    "# Preprocess Data for Analysis\n",
    "To analyze the creation_time, I converted it to to a numeric value. I also converted time_stamp from string to datetime.\n",
    "\n",
    "Finally, supervised learning requires labeled data, so I created a label column based on whether the user has logged in at least 3 times within a 7 day period."
   ]
  },
  {
   "cell_type": "code",
   "execution_count": 5,
   "metadata": {},
   "outputs": [],
   "source": [
    "# Convert creation_time and last_session_creation_time to datetime\n",
    "users['creation_time'] = pd.to_datetime(users['creation_time'])\n",
    "users['last_session_creation_time'] = pd.to_datetime(users['last_session_creation_time'], unit='s')\n",
    "\n",
    "# Convert time_stamp to datetime\n",
    "user_engagement['time_stamp'] = pd.to_datetime(user_engagement['time_stamp']).dt.date"
   ]
  },
  {
   "cell_type": "code",
   "execution_count": 6,
   "metadata": {},
   "outputs": [],
   "source": [
    "# Label users\n",
    "\n",
    "def did_user_adopt(user_id, user_engagement):\n",
    "    \"\"\"\n",
    "    Return boolean adopted: True if user has logged in 3 times in 7 day period, False otherwise\n",
    "    \n",
    "    param str user_id: user id\n",
    "    param dataframe user_engagement: timestamp of all times user visited\n",
    "    \"\"\"\n",
    "    \n",
    "    # filter user_engagement to just the specific user (user_id)\n",
    "    user_id_engagements = user_engagement[user_engagement['user_id']==user_id].sort_values('time_stamp')\n",
    "    \n",
    "    # return False if user has not logged in at least three times\n",
    "    if user_id_engagements['visited'].sum() < 3:\n",
    "        adopted = False\n",
    "        return adopted\n",
    "    \n",
    "    # loop through user_id_engagements to identify whether user has logged in 3 times within 7 day period\n",
    "    for index, row in user_id_engagements.iterrows():\n",
    "        start_date = row['time_stamp']\n",
    "        end_date = start_date + dt.timedelta(days=7)\n",
    "        total_visits = user_id_engagements.loc[\n",
    "            (user_id_engagements['time_stamp'] >= start_date) & \n",
    "            (user_id_engagements['time_stamp'] < end_date),\n",
    "            'visited'\n",
    "        ].sum()\n",
    "        if total_visits >= 3:\n",
    "            adopted = True\n",
    "            return adopted\n",
    "            \n",
    "    # if users do not have a 7 day period with 3 or more logins, then they aren't adopters\n",
    "    adopted = False\n",
    "    return adopted\n",
    "\n",
    "users['adopted'] = users['object_id'].apply(lambda x: did_user_adopt(x, user_engagement))"
   ]
  },
  {
   "cell_type": "markdown",
   "metadata": {},
   "source": [
    "# Explore Features\n",
    "\n",
    "I first determined the number of missing values in each column to determine whether the features are suitable for a predictive model. I then analyzed the number of unique values in each column to determine whether any features are categorical."
   ]
  },
  {
   "cell_type": "markdown",
   "metadata": {},
   "source": [
    "### How many values (and missing values) are there?"
   ]
  },
  {
   "cell_type": "code",
   "execution_count": 7,
   "metadata": {},
   "outputs": [
    {
     "data": {
      "text/plain": [
       "object_id                     12000\n",
       "creation_time                 12000\n",
       "name                          12000\n",
       "email                         12000\n",
       "creation_source               12000\n",
       "last_session_creation_time     8823\n",
       "opted_in_to_mailing_list      12000\n",
       "enabled_for_marketing_drip    12000\n",
       "org_id                        12000\n",
       "invited_by_user_id             6417\n",
       "adopted                       12000\n",
       "dtype: int64"
      ]
     },
     "execution_count": 7,
     "metadata": {},
     "output_type": "execute_result"
    }
   ],
   "source": [
    "users.count()"
   ]
  },
  {
   "cell_type": "markdown",
   "metadata": {},
   "source": [
    "Observations:\n",
    "- A little more than half of the users were invited by another user.\n",
    "- About 3,200 users have never logged in."
   ]
  },
  {
   "cell_type": "markdown",
   "metadata": {},
   "source": [
    "### How many unique values are there for each column?"
   ]
  },
  {
   "cell_type": "code",
   "execution_count": 8,
   "metadata": {},
   "outputs": [
    {
     "data": {
      "text/plain": [
       "object_id                     12000\n",
       "creation_time                 11996\n",
       "name                          11355\n",
       "email                         11980\n",
       "creation_source                   5\n",
       "last_session_creation_time     8821\n",
       "opted_in_to_mailing_list          2\n",
       "enabled_for_marketing_drip        2\n",
       "org_id                          417\n",
       "invited_by_user_id             2564\n",
       "adopted                           2\n",
       "dtype: int64"
      ]
     },
     "execution_count": 8,
     "metadata": {},
     "output_type": "execute_result"
    }
   ],
   "source": [
    "users.nunique()"
   ]
  },
  {
   "cell_type": "markdown",
   "metadata": {},
   "source": [
    "Observations:\n",
    "- creation_source, opted_in_to_mailing_list, enabled_for_marketing_drip, org_id are clearly categorical columns.\n",
    "- Less than a fourth of users participate in inviting other users\n",
    "- Some emails have multiple accounts."
   ]
  },
  {
   "cell_type": "markdown",
   "metadata": {},
   "source": [
    "### Feature Exploration\n",
    "The purpose of feature exploration is to develop an understanding of the data. For each feature, I created plots to understand the distribution of the feature. Then I used hypothesis tests to determine whether the feature could be used to predict adoption. For numerical features, I conducted two-sample t tests, and for categorical features, I conducted chi-squared tests."
   ]
  },
  {
   "cell_type": "markdown",
   "metadata": {},
   "source": [
    "#### creation_time"
   ]
  },
  {
   "cell_type": "code",
   "execution_count": 9,
   "metadata": {},
   "outputs": [
    {
     "data": {
      "text/plain": [
       "count                   12000\n",
       "unique                  11996\n",
       "top       2014-02-11 17:57:53\n",
       "freq                        2\n",
       "first     2012-05-31 00:43:27\n",
       "last      2014-05-30 23:59:19\n",
       "Name: creation_time, dtype: object"
      ]
     },
     "execution_count": 9,
     "metadata": {},
     "output_type": "execute_result"
    }
   ],
   "source": [
    "users['creation_time'].describe()"
   ]
  },
  {
   "cell_type": "markdown",
   "metadata": {},
   "source": [
    "creation_time can be thought of as a categorical feature based on the calendar quarter."
   ]
  },
  {
   "cell_type": "code",
   "execution_count": 10,
   "metadata": {},
   "outputs": [],
   "source": [
    "# Extract quarter and year from datetime\n",
    "# https://stackoverflow.com/questions/31441514/datetime-format-in-quarters\n",
    "def convert_to_quarter(d):\n",
    "    ts = pd.Timestamp(pd.to_datetime(d,format='%Y%m'))\n",
    "    return \"{}Q{}\".format(ts.year, ts.quarter)\n",
    "\n",
    "users['creation_quarter'] = users['creation_time'].apply(lambda x: convert_to_quarter(x))"
   ]
  },
  {
   "cell_type": "code",
   "execution_count": 11,
   "metadata": {},
   "outputs": [
    {
     "data": {
      "image/png": "[encoded data removed]",
      "text/plain": [
       "<Figure size 432x288 with 1 Axes>"
      ]
     },
     "metadata": {},
     "output_type": "display_data"
    }
   ],
   "source": [
    "# Plot quarterly new users\n",
    "objects = sorted(users['creation_quarter'].unique())\n",
    "y_pos = np.arange(len(objects))\n",
    "performance = users.groupby('creation_quarter')['object_id'].count()\n",
    "plt.xticks(y_pos, objects, rotation=90)\n",
    "\n",
    "plt.bar(y_pos, performance, align='center', alpha=0.5)\n",
    "plt.show()"
   ]
  },
  {
   "cell_type": "markdown",
   "metadata": {},
   "source": [
    "Observations:\n",
    "- New users are consistently joining and growing each quarter.\n",
    "- Full data for 2014Q2 and 2012Q2 are not available."
   ]
  },
  {
   "cell_type": "code",
   "execution_count": 12,
   "metadata": {},
   "outputs": [
    {
     "data": {
      "image/png": "[encoded data removed]",
      "text/plain": [
       "<Figure size 432x288 with 1 Axes>"
      ]
     },
     "metadata": {},
     "output_type": "display_data"
    }
   ],
   "source": [
    "# Plot proportion of users who adopted from each quarter\n",
    "objects = sorted(users['creation_quarter'].unique())\n",
    "y_pos = np.arange(len(objects))\n",
    "performance = users.groupby('creation_quarter')['adopted'].mean()\n",
    "plt.xticks(y_pos, objects, rotation=90)\n",
    "\n",
    "plt.bar(y_pos, performance, align='center', alpha=0.5)\n",
    "plt.show()"
   ]
  },
  {
   "cell_type": "code",
   "execution_count": 13,
   "metadata": {},
   "outputs": [
    {
     "name": "stdout",
     "output_type": "stream",
     "text": [
      "===Chi2 Stat===\n",
      "191.5815646466752\n",
      "\n",
      "\n",
      "===Degrees of Freedom===\n",
      "8\n",
      "\n",
      "\n",
      "===P-Value===\n",
      "3.7851454828665135e-37\n",
      "\n",
      "\n",
      "===Contingency Table===\n",
      "[[ 361.3305 1006.0065 1056.2635 1142.9135 1162.843  1251.226  1361.2715\n",
      "  1577.8965 1478.249 ]\n",
      " [  55.6695  154.9935  162.7365  176.0865  179.157   192.774   209.7285\n",
      "   243.1035  227.751 ]]\n"
     ]
    }
   ],
   "source": [
    "#Perform chi-squared test to determine whether frequency of adopted users are different between quarters\n",
    "\n",
    "#Taken from https://towardsdatascience.com/running-chi-square-tests-in-python-with-die-roll-data-b9903817c51b\n",
    "table = pd.crosstab(users['adopted'], users['creation_quarter'])\n",
    "chi2_stat, p_val, dof, ex = stats.chi2_contingency(table)\n",
    "print(\"===Chi2 Stat===\")\n",
    "print(chi2_stat)\n",
    "print(\"\\n\")\n",
    "print(\"===Degrees of Freedom===\")\n",
    "print(dof)\n",
    "print(\"\\n\")\n",
    "print(\"===P-Value===\")\n",
    "print(p_val)\n",
    "print(\"\\n\")\n",
    "print(\"===Contingency Table===\")\n",
    "print(ex)"
   ]
  },
  {
   "cell_type": "markdown",
   "metadata": {},
   "source": [
    "At a significance level of 0.05, the frequency of adopted users are significantly different depending on the quarter."
   ]
  },
  {
   "cell_type": "markdown",
   "metadata": {},
   "source": [
    "#### days_from_creation\n",
    "days_from_creation is another way to analyze creation_time, except it is numerical instead of categorical (like creation_quarter)."
   ]
  },
  {
   "cell_type": "code",
   "execution_count": 14,
   "metadata": {},
   "outputs": [],
   "source": [
    "# Calculate number of days since account has been created\n",
    "def calc_days_from_creation(creation_time):\n",
    "    baseline_date = dt.date(2014, 6, 6)\n",
    "    creation_date = creation_time.date()\n",
    "    days_from_creation = baseline_date - creation_date\n",
    "    days_from_creation = days_from_creation.days\n",
    "    return days_from_creation\n",
    "\n",
    "users['days_from_creation'] = users['creation_time'].apply(lambda x: calc_days_from_creation(x))"
   ]
  },
  {
   "cell_type": "code",
   "execution_count": 15,
   "metadata": {},
   "outputs": [
    {
     "data": {
      "text/plain": [
       "count    12000.000000\n",
       "mean       324.943167\n",
       "std        216.641449\n",
       "min          7.000000\n",
       "25%        129.000000\n",
       "50%        305.000000\n",
       "75%        507.000000\n",
       "max        736.000000\n",
       "Name: days_from_creation, dtype: float64"
      ]
     },
     "execution_count": 15,
     "metadata": {},
     "output_type": "execute_result"
    }
   ],
   "source": [
    "users['days_from_creation'].describe()"
   ]
  },
  {
   "cell_type": "code",
   "execution_count": 16,
   "metadata": {},
   "outputs": [
    {
     "data": {
      "image/png": "[encoded data removed]",
      "text/plain": [
       "<Figure size 432x288 with 1 Axes>"
      ]
     },
     "metadata": {},
     "output_type": "display_data"
    }
   ],
   "source": [
    "plt.hist(users['days_from_creation'])\n",
    "plt.show()"
   ]
  },
  {
   "cell_type": "code",
   "execution_count": 17,
   "metadata": {},
   "outputs": [
    {
     "name": "stdout",
     "output_type": "stream",
     "text": [
      "===t Stat===\n",
      "3.050867385849771\n",
      "\n",
      "\n",
      "===P-Value===\n",
      "0.0034470727501211464\n"
     ]
    }
   ],
   "source": [
    "# Extract bootstrap samples\n",
    "sample_adopted = users.loc[users['adopted']==True, 'days_from_creation'].dropna().sample(30, replace=True)\n",
    "sample_non_adopted = users.loc[users['adopted']==False, 'days_from_creation'].dropna().sample(30, replace=True)\n",
    "\n",
    "# Perform t-test to determine whether average days from creation is different between adopted and non-adopted users\n",
    "t, p_val = stats.ttest_ind(sample_adopted, sample_non_adopted, equal_var=False)\n",
    "\n",
    "print(\"===t Stat===\")\n",
    "print(t)\n",
    "print(\"\\n\")\n",
    "print(\"===P-Value===\")\n",
    "print(p_val)"
   ]
  },
  {
   "cell_type": "markdown",
   "metadata": {},
   "source": [
    "At a significance level of 0.05, average days from creation is not significantly different between adopted and non-adopted users"
   ]
  },
  {
   "cell_type": "markdown",
   "metadata": {},
   "source": [
    "#### creation_source"
   ]
  },
  {
   "cell_type": "code",
   "execution_count": 18,
   "metadata": {},
   "outputs": [
    {
     "data": {
      "text/plain": [
       "count          12000\n",
       "unique             5\n",
       "top       ORG_INVITE\n",
       "freq            4254\n",
       "Name: creation_source, dtype: object"
      ]
     },
     "execution_count": 18,
     "metadata": {},
     "output_type": "execute_result"
    }
   ],
   "source": [
    "users['creation_source'].describe()"
   ]
  },
  {
   "cell_type": "code",
   "execution_count": 19,
   "metadata": {},
   "outputs": [
    {
     "data": {
      "image/png": "[encoded data removed]",
      "text/plain": [
       "<Figure size 432x288 with 1 Axes>"
      ]
     },
     "metadata": {},
     "output_type": "display_data"
    }
   ],
   "source": [
    "# Plot creation_source\n",
    "objects = sorted(users['creation_source'].unique())\n",
    "y_pos = np.arange(len(objects))\n",
    "performance = users.groupby('creation_source')['object_id'].count()\n",
    "plt.xticks(y_pos, objects, rotation=90)\n",
    "\n",
    "plt.bar(y_pos, performance, align='center', alpha=0.5)\n",
    "plt.show()"
   ]
  },
  {
   "cell_type": "code",
   "execution_count": 20,
   "metadata": {},
   "outputs": [
    {
     "name": "stdout",
     "output_type": "stream",
     "text": [
      "===Chi2 Stat===\n",
      "92.28463976593646\n",
      "\n",
      "\n",
      "===Degrees of Freedom===\n",
      "4\n",
      "\n",
      "\n",
      "===P-Value===\n",
      "4.305821709002437e-19\n",
      "\n",
      "\n",
      "===Contingency Table===\n",
      "[[1874.2395 3686.091  1829.1815 1808.3855 1200.1025]\n",
      " [ 288.7605  567.909   281.8185  278.6145  184.8975]]\n"
     ]
    }
   ],
   "source": [
    "# Perform chi-squared test to determine whether frequency of adopted users are significant different between creation source\n",
    "#https://towardsdatascience.com/running-chi-square-tests-in-python-with-die-roll-data-b9903817c51b\n",
    "table = pd.crosstab(users['adopted'], users['creation_source'])\n",
    "chi2_stat, p_val, dof, ex = stats.chi2_contingency(table)\n",
    "print(\"===Chi2 Stat===\")\n",
    "print(chi2_stat)\n",
    "print(\"\\n\")\n",
    "print(\"===Degrees of Freedom===\")\n",
    "print(dof)\n",
    "print(\"\\n\")\n",
    "print(\"===P-Value===\")\n",
    "print(p_val)\n",
    "print(\"\\n\")\n",
    "print(\"===Contingency Table===\")\n",
    "print(ex)"
   ]
  },
  {
   "cell_type": "markdown",
   "metadata": {},
   "source": [
    "At a significance level of 0.05, the frequency of adopted users are significantly different depending on the creation_source."
   ]
  },
  {
   "cell_type": "markdown",
   "metadata": {},
   "source": [
    "#### last_session_creation_time"
   ]
  },
  {
   "cell_type": "code",
   "execution_count": 21,
   "metadata": {},
   "outputs": [
    {
     "data": {
      "text/plain": [
       "count                    8823\n",
       "unique                   8821\n",
       "top       2014-06-04 21:21:37\n",
       "freq                        2\n",
       "first     2012-05-31 08:20:06\n",
       "last      2014-06-06 14:58:50\n",
       "Name: last_session_creation_time, dtype: object"
      ]
     },
     "execution_count": 21,
     "metadata": {},
     "output_type": "execute_result"
    }
   ],
   "source": [
    "users['last_session_creation_time'].describe()"
   ]
  },
  {
   "cell_type": "code",
   "execution_count": 22,
   "metadata": {},
   "outputs": [
    {
     "data": {
      "text/plain": [
       "datetime.date(2014, 6, 6)"
      ]
     },
     "execution_count": 22,
     "metadata": {},
     "output_type": "execute_result"
    }
   ],
   "source": [
    "# Use most current time stamp as present\n",
    "user_engagement['time_stamp'].max()"
   ]
  },
  {
   "cell_type": "code",
   "execution_count": 23,
   "metadata": {},
   "outputs": [],
   "source": [
    "# Calculate days since last login\n",
    "def calc_days_from_last_session(last_session_creation_time):\n",
    "    baseline_date = dt.date(2014, 6, 6)\n",
    "    last_session_creation_date = last_session_creation_time.date()\n",
    "    days_from_last_session = baseline_date - last_session_creation_date\n",
    "    days_from_last_session = days_from_last_session.days\n",
    "    return days_from_last_session\n",
    "\n",
    "users['days_from_last_session'] = users['last_session_creation_time'].apply(lambda x: calc_days_from_last_session(x))"
   ]
  },
  {
   "cell_type": "code",
   "execution_count": 24,
   "metadata": {},
   "outputs": [
    {
     "data": {
      "text/plain": [
       "count    8823.000000\n",
       "mean      263.622351\n",
       "std       226.052501\n",
       "min         0.000000\n",
       "25%        42.000000\n",
       "50%       222.000000\n",
       "75%       450.000000\n",
       "max       736.000000\n",
       "Name: days_from_last_session, dtype: float64"
      ]
     },
     "execution_count": 24,
     "metadata": {},
     "output_type": "execute_result"
    }
   ],
   "source": [
    "users['days_from_last_session'].describe()"
   ]
  },
  {
   "cell_type": "code",
   "execution_count": 25,
   "metadata": {},
   "outputs": [
    {
     "data": {
      "text/plain": [
       "(array([2688.,  935.,  776.,  758.,  690.,  695.,  645.,  575.,  564.,\n",
       "         497.]),\n",
       " array([  0. ,  73.6, 147.2, 220.8, 294.4, 368. , 441.6, 515.2, 588.8,\n",
       "        662.4, 736. ]),\n",
       " <a list of 10 Patch objects>)"
      ]
     },
     "execution_count": 25,
     "metadata": {},
     "output_type": "execute_result"
    },
    {
     "data": {
      "image/png": "[encoded data removed]",
      "text/plain": [
       "<Figure size 432x288 with 1 Axes>"
      ]
     },
     "metadata": {},
     "output_type": "display_data"
    }
   ],
   "source": [
    "plt.hist(users['days_from_last_session'].dropna())"
   ]
  },
  {
   "cell_type": "code",
   "execution_count": 26,
   "metadata": {},
   "outputs": [
    {
     "name": "stdout",
     "output_type": "stream",
     "text": [
      "===t Stat===\n",
      "-4.964509947180179\n",
      "\n",
      "\n",
      "===P-Value===\n",
      "9.273954467427524e-06\n"
     ]
    }
   ],
   "source": [
    "# Bootstrap sample adopted and non-adopted\n",
    "sample_adopted = users.loc[users['adopted']==True, 'days_from_last_session'].dropna().sample(30)\n",
    "sample_non_adopted = users.loc[users['adopted']==False, 'days_from_last_session'].dropna().sample(30)\n",
    "\n",
    "# Perform t test to compare means of adopted and non-adopted\n",
    "t, p_val = stats.ttest_ind(sample_adopted, sample_non_adopted, equal_var=False)\n",
    "\n",
    "print(\"===t Stat===\")\n",
    "print(t)\n",
    "print(\"\\n\")\n",
    "print(\"===P-Value===\")\n",
    "print(p_val)"
   ]
  },
  {
   "cell_type": "markdown",
   "metadata": {},
   "source": [
    "At a significance level of 0.05, the average number of days from last login is significantly different between adopted and non-adopted users."
   ]
  },
  {
   "cell_type": "markdown",
   "metadata": {},
   "source": [
    "#### last_session_quarter"
   ]
  },
  {
   "cell_type": "code",
   "execution_count": 27,
   "metadata": {},
   "outputs": [],
   "source": [
    "users['last_session_quarter'] = users['last_session_creation_time'].apply(lambda x: convert_to_quarter(x))\n",
    "users.loc[users['last_session_quarter'] == 'nanQnan', 'last_session_quarter'] = np.nan"
   ]
  },
  {
   "cell_type": "code",
   "execution_count": 28,
   "metadata": {},
   "outputs": [
    {
     "data": {
      "text/plain": [
       "count       8823\n",
       "unique         9\n",
       "top       2014Q2\n",
       "freq        2596\n",
       "Name: last_session_quarter, dtype: object"
      ]
     },
     "execution_count": 28,
     "metadata": {},
     "output_type": "execute_result"
    }
   ],
   "source": [
    "users['last_session_quarter'].describe()"
   ]
  },
  {
   "cell_type": "code",
   "execution_count": 29,
   "metadata": {},
   "outputs": [
    {
     "data": {
      "text/plain": [
       "array(['2014Q2', '2014Q1', '2013Q1', '2013Q2', '2013Q4', '2012Q4', nan,\n",
       "       '2012Q3', '2013Q3', '2012Q2'], dtype=object)"
      ]
     },
     "execution_count": 29,
     "metadata": {},
     "output_type": "execute_result"
    }
   ],
   "source": [
    "users['last_session_quarter'].unique()"
   ]
  },
  {
   "cell_type": "code",
   "execution_count": 30,
   "metadata": {},
   "outputs": [
    {
     "data": {
      "image/png": "[encoded data removed]",
      "text/plain": [
       "<Figure size 432x288 with 1 Axes>"
      ]
     },
     "metadata": {},
     "output_type": "display_data"
    }
   ],
   "source": [
    "# Plot last_session_quarter\n",
    "objects = sorted(users['last_session_quarter'].dropna().unique())\n",
    "y_pos = np.arange(len(objects))\n",
    "performance = users.groupby('last_session_quarter')['object_id'].count()\n",
    "plt.xticks(y_pos, objects, rotation=90)\n",
    "\n",
    "plt.bar(y_pos, performance, align='center', alpha=0.5)\n",
    "plt.show()"
   ]
  },
  {
   "cell_type": "code",
   "execution_count": 31,
   "metadata": {},
   "outputs": [
    {
     "data": {
      "image/png": "[encoded data removed]",
      "text/plain": [
       "<Figure size 432x288 with 1 Axes>"
      ]
     },
     "metadata": {},
     "output_type": "display_data"
    }
   ],
   "source": [
    "# Plot proportion of users who adopted\n",
    "objects = sorted(users['last_session_quarter'].dropna().unique())\n",
    "y_pos = np.arange(len(objects))\n",
    "performance = users.groupby('last_session_quarter')['adopted'].mean()\n",
    "plt.xticks(y_pos, objects, rotation=90)\n",
    "\n",
    "plt.bar(y_pos, performance, align='center', alpha=0.5)\n",
    "plt.show()"
   ]
  },
  {
   "cell_type": "code",
   "execution_count": 32,
   "metadata": {},
   "outputs": [
    {
     "name": "stdout",
     "output_type": "stream",
     "text": [
      "===Chi2 Stat===\n",
      "2405.9699190357724\n",
      "\n",
      "\n",
      "===Degrees of Freedom===\n",
      "8\n",
      "\n",
      "\n",
      "===P-Value===\n",
      "0.0\n",
      "\n",
      "\n",
      "===Contingency Table===\n",
      "[[ 165.32267936  534.43420605  595.81638898  649.01428086  689.11730704\n",
      "   742.31519891  790.60251615  929.73546413 2124.64195852]\n",
      " [  36.67732064  118.56579395  132.18361102  143.98571914  152.88269296\n",
      "   164.68480109  175.39748385  206.26453587  471.35804148]]\n"
     ]
    }
   ],
   "source": [
    "# Perform chi-squared test to determine whether frequency of adopted users are significant different between quarters\n",
    "#https://towardsdatascience.com/running-chi-square-tests-in-python-with-die-roll-data-b9903817c51b\n",
    "table = pd.crosstab(users['adopted'], users['last_session_quarter'])\n",
    "chi2_stat, p_val, dof, ex = stats.chi2_contingency(table)\n",
    "print(\"===Chi2 Stat===\")\n",
    "print(chi2_stat)\n",
    "print(\"\\n\")\n",
    "print(\"===Degrees of Freedom===\")\n",
    "print(dof)\n",
    "print(\"\\n\")\n",
    "print(\"===P-Value===\")\n",
    "print(p_val)\n",
    "print(\"\\n\")\n",
    "print(\"===Contingency Table===\")\n",
    "print(ex)"
   ]
  },
  {
   "cell_type": "markdown",
   "metadata": {},
   "source": [
    "At a significance level of 0.05, last_session_quarter is statistically significant."
   ]
  },
  {
   "cell_type": "markdown",
   "metadata": {},
   "source": [
    "#### logged_in\n",
    "Based on last_session_creation_time. If user has not logged in, he or she would not have adopted."
   ]
  },
  {
   "cell_type": "code",
   "execution_count": 33,
   "metadata": {},
   "outputs": [],
   "source": [
    "users['logged_in'] = pd.isnull(users['last_session_creation_time']) == False"
   ]
  },
  {
   "cell_type": "code",
   "execution_count": 34,
   "metadata": {},
   "outputs": [
    {
     "data": {
      "text/plain": [
       "count     12000\n",
       "unique        2\n",
       "top        True\n",
       "freq       8823\n",
       "Name: logged_in, dtype: object"
      ]
     },
     "execution_count": 34,
     "metadata": {},
     "output_type": "execute_result"
    }
   ],
   "source": [
    "users['logged_in'].describe()"
   ]
  },
  {
   "cell_type": "code",
   "execution_count": 35,
   "metadata": {},
   "outputs": [
    {
     "data": {
      "image/png": "[encoded data removed]",
      "text/plain": [
       "<Figure size 432x288 with 1 Axes>"
      ]
     },
     "metadata": {},
     "output_type": "display_data"
    }
   ],
   "source": [
    "# Plot logged_in\n",
    "objects = sorted(users['logged_in'].unique())\n",
    "y_pos = np.arange(len(objects))\n",
    "performance = users.groupby('logged_in')['object_id'].count()\n",
    "plt.xticks(y_pos, objects, rotation=90)\n",
    "\n",
    "plt.bar(y_pos, performance, align='center', alpha=0.5)\n",
    "plt.show()"
   ]
  },
  {
   "cell_type": "code",
   "execution_count": 36,
   "metadata": {},
   "outputs": [
    {
     "name": "stdout",
     "output_type": "stream",
     "text": [
      "===Chi2 Stat===\n",
      "664.1563198257577\n",
      "\n",
      "\n",
      "===Degrees of Freedom===\n",
      "1\n",
      "\n",
      "\n",
      "===P-Value===\n",
      "1.8639790861651788e-146\n",
      "\n",
      "\n",
      "===Contingency Table===\n",
      "[[2752.8705 7645.1295]\n",
      " [ 424.1295 1177.8705]]\n"
     ]
    }
   ],
   "source": [
    "# Perform chi-squared test to determine whether frequency of adopted users are significant different based on whether users logged in\n",
    "#https://towardsdatascience.com/running-chi-square-tests-in-python-with-die-roll-data-b9903817c51b\n",
    "table = pd.crosstab(users['adopted'], users['logged_in'])\n",
    "chi2_stat, p_val, dof, ex = stats.chi2_contingency(table)\n",
    "print(\"===Chi2 Stat===\")\n",
    "print(chi2_stat)\n",
    "print(\"\\n\")\n",
    "print(\"===Degrees of Freedom===\")\n",
    "print(dof)\n",
    "print(\"\\n\")\n",
    "print(\"===P-Value===\")\n",
    "print(p_val)\n",
    "print(\"\\n\")\n",
    "print(\"===Contingency Table===\")\n",
    "print(ex)"
   ]
  },
  {
   "cell_type": "markdown",
   "metadata": {},
   "source": [
    "Logged in is statistically significant at 0.05"
   ]
  },
  {
   "cell_type": "markdown",
   "metadata": {},
   "source": [
    "#### opted_in_to_mailing_list"
   ]
  },
  {
   "cell_type": "code",
   "execution_count": 37,
   "metadata": {},
   "outputs": [
    {
     "data": {
      "text/plain": [
       "count     12000\n",
       "unique        2\n",
       "top           0\n",
       "freq       9006\n",
       "Name: opted_in_to_mailing_list, dtype: object"
      ]
     },
     "execution_count": 37,
     "metadata": {},
     "output_type": "execute_result"
    }
   ],
   "source": [
    "users['opted_in_to_mailing_list'].describe()"
   ]
  },
  {
   "cell_type": "code",
   "execution_count": 38,
   "metadata": {},
   "outputs": [
    {
     "data": {
      "image/png": "[encoded data removed]",
      "text/plain": [
       "<Figure size 432x288 with 1 Axes>"
      ]
     },
     "metadata": {},
     "output_type": "display_data"
    }
   ],
   "source": [
    "# Plot opted_in_to_mailing_list\n",
    "objects = sorted(users['opted_in_to_mailing_list'].unique())\n",
    "y_pos = np.arange(len(objects))\n",
    "performance = users.groupby('opted_in_to_mailing_list')['object_id'].count()\n",
    "plt.xticks(y_pos, objects, rotation=90)\n",
    "\n",
    "plt.bar(y_pos, performance, align='center', alpha=0.5)\n",
    "plt.show()"
   ]
  },
  {
   "cell_type": "code",
   "execution_count": 39,
   "metadata": {},
   "outputs": [
    {
     "name": "stdout",
     "output_type": "stream",
     "text": [
      "===Chi2 Stat===\n",
      "0.7327718655131716\n",
      "\n",
      "\n",
      "===Degrees of Freedom===\n",
      "1\n",
      "\n",
      "\n",
      "===P-Value===\n",
      "0.3919861918708256\n",
      "\n",
      "\n",
      "===Contingency Table===\n",
      "[[7803.699 2594.301]\n",
      " [1202.301  399.699]]\n"
     ]
    }
   ],
   "source": [
    "#https://towardsdatascience.com/running-chi-square-tests-in-python-with-die-roll-data-b9903817c51b\n",
    "table = pd.crosstab(users['adopted'], users['opted_in_to_mailing_list'])\n",
    "chi2_stat, p_val, dof, ex = stats.chi2_contingency(table)\n",
    "print(\"===Chi2 Stat===\")\n",
    "print(chi2_stat)\n",
    "print(\"\\n\")\n",
    "print(\"===Degrees of Freedom===\")\n",
    "print(dof)\n",
    "print(\"\\n\")\n",
    "print(\"===P-Value===\")\n",
    "print(p_val)\n",
    "print(\"\\n\")\n",
    "print(\"===Contingency Table===\")\n",
    "print(ex)"
   ]
  },
  {
   "cell_type": "markdown",
   "metadata": {},
   "source": [
    "opted_in_to_mailing_list is not statistically significant at p=0.05."
   ]
  },
  {
   "cell_type": "markdown",
   "metadata": {},
   "source": [
    "#### enabled_for_marketing_drip"
   ]
  },
  {
   "cell_type": "code",
   "execution_count": 40,
   "metadata": {},
   "outputs": [
    {
     "data": {
      "text/plain": [
       "count     12000\n",
       "unique        2\n",
       "top           0\n",
       "freq      10208\n",
       "Name: enabled_for_marketing_drip, dtype: object"
      ]
     },
     "execution_count": 40,
     "metadata": {},
     "output_type": "execute_result"
    }
   ],
   "source": [
    "users['enabled_for_marketing_drip'].describe()"
   ]
  },
  {
   "cell_type": "code",
   "execution_count": 41,
   "metadata": {},
   "outputs": [
    {
     "data": {
      "image/png": "[encoded data removed]",
      "text/plain": [
       "<Figure size 432x288 with 1 Axes>"
      ]
     },
     "metadata": {},
     "output_type": "display_data"
    }
   ],
   "source": [
    "# Plot enabled_for_marketing_drip\n",
    "objects = sorted(users['enabled_for_marketing_drip'].unique())\n",
    "y_pos = np.arange(len(objects))\n",
    "performance = users.groupby('enabled_for_marketing_drip')['object_id'].count()\n",
    "plt.xticks(y_pos, objects, rotation=90)\n",
    "\n",
    "plt.bar(y_pos, performance, align='center', alpha=0.5)\n",
    "plt.show()"
   ]
  },
  {
   "cell_type": "code",
   "execution_count": 42,
   "metadata": {},
   "outputs": [
    {
     "name": "stdout",
     "output_type": "stream",
     "text": [
      "===Chi2 Stat===\n",
      "0.22279770974709384\n",
      "\n",
      "\n",
      "===Degrees of Freedom===\n",
      "1\n",
      "\n",
      "\n",
      "===P-Value===\n",
      "0.6369164225605993\n",
      "\n",
      "\n",
      "===Contingency Table===\n",
      "[[8845.232 1552.768]\n",
      " [1362.768  239.232]]\n"
     ]
    }
   ],
   "source": [
    "#https://towardsdatascience.com/running-chi-square-tests-in-python-with-die-roll-data-b9903817c51b\n",
    "table = pd.crosstab(users['adopted'], users['enabled_for_marketing_drip'])\n",
    "chi2_stat, p_val, dof, ex = stats.chi2_contingency(table)\n",
    "print(\"===Chi2 Stat===\")\n",
    "print(chi2_stat)\n",
    "print(\"\\n\")\n",
    "print(\"===Degrees of Freedom===\")\n",
    "print(dof)\n",
    "print(\"\\n\")\n",
    "print(\"===P-Value===\")\n",
    "print(p_val)\n",
    "print(\"\\n\")\n",
    "print(\"===Contingency Table===\")\n",
    "print(ex)"
   ]
  },
  {
   "cell_type": "markdown",
   "metadata": {},
   "source": [
    "enabled_for_marketing_drip is not statistically significant at p=0.05."
   ]
  },
  {
   "cell_type": "markdown",
   "metadata": {},
   "source": [
    "#### org_id"
   ]
  },
  {
   "cell_type": "code",
   "execution_count": 43,
   "metadata": {},
   "outputs": [
    {
     "data": {
      "text/plain": [
       "count     12000\n",
       "unique      417\n",
       "top           0\n",
       "freq        319\n",
       "Name: org_id, dtype: object"
      ]
     },
     "execution_count": 43,
     "metadata": {},
     "output_type": "execute_result"
    }
   ],
   "source": [
    "users['org_id'].describe()"
   ]
  },
  {
   "cell_type": "code",
   "execution_count": 44,
   "metadata": {},
   "outputs": [
    {
     "data": {
      "image/png": "[encoded data removed]",
      "text/plain": [
       "<Figure size 432x288 with 1 Axes>"
      ]
     },
     "metadata": {},
     "output_type": "display_data"
    }
   ],
   "source": [
    "# Plot org_id\n",
    "objects = sorted(users['org_id'].unique())\n",
    "y_pos = np.arange(len(objects))\n",
    "performance = users.groupby('org_id')['object_id'].count()\n",
    "plt.xticks(y_pos, objects, rotation=90)\n",
    "\n",
    "plt.bar(y_pos, performance, align='center', alpha=0.5)\n",
    "plt.show()"
   ]
  },
  {
   "cell_type": "code",
   "execution_count": 45,
   "metadata": {},
   "outputs": [
    {
     "name": "stdout",
     "output_type": "stream",
     "text": [
      "===Chi2 Stat===\n",
      "539.0103037900813\n",
      "\n",
      "\n",
      "===Degrees of Freedom===\n",
      "416\n",
      "\n",
      "\n",
      "===P-Value===\n",
      "4.297528245467555e-05\n"
     ]
    }
   ],
   "source": [
    "#https://towardsdatascience.com/running-chi-square-tests-in-python-with-die-roll-data-b9903817c51b\n",
    "table = pd.crosstab(users['adopted'], users['org_id'])\n",
    "chi2_stat, p_val, dof, ex = stats.chi2_contingency(table)\n",
    "print(\"===Chi2 Stat===\")\n",
    "print(chi2_stat)\n",
    "print(\"\\n\")\n",
    "print(\"===Degrees of Freedom===\")\n",
    "print(dof)\n",
    "print(\"\\n\")\n",
    "print(\"===P-Value===\")\n",
    "print(p_val)"
   ]
  },
  {
   "cell_type": "markdown",
   "metadata": {},
   "source": [
    "org_id is statistically significant at p=0.05."
   ]
  },
  {
   "cell_type": "markdown",
   "metadata": {},
   "source": [
    "#### invited_by_user_id "
   ]
  },
  {
   "cell_type": "code",
   "execution_count": 46,
   "metadata": {},
   "outputs": [
    {
     "data": {
      "text/plain": [
       "count      6417\n",
       "unique     2564\n",
       "top       10741\n",
       "freq         13\n",
       "Name: invited_by_user_id, dtype: object"
      ]
     },
     "execution_count": 46,
     "metadata": {},
     "output_type": "execute_result"
    }
   ],
   "source": [
    "users['invited_by_user_id'].describe()"
   ]
  },
  {
   "cell_type": "code",
   "execution_count": 47,
   "metadata": {},
   "outputs": [
    {
     "name": "stdout",
     "output_type": "stream",
     "text": [
      "===Chi2 Stat===\n",
      "2618.8506299773953\n",
      "\n",
      "\n",
      "===Degrees of Freedom===\n",
      "2563\n",
      "\n",
      "\n",
      "===P-Value===\n",
      "0.21658492785300748\n"
     ]
    }
   ],
   "source": [
    "#https://towardsdatascience.com/running-chi-square-tests-in-python-with-die-roll-data-b9903817c51b\n",
    "table = pd.crosstab(users['adopted'], users['invited_by_user_id'])\n",
    "chi2_stat, p_val, dof, ex = stats.chi2_contingency(table)\n",
    "print(\"===Chi2 Stat===\")\n",
    "print(chi2_stat)\n",
    "print(\"\\n\")\n",
    "print(\"===Degrees of Freedom===\")\n",
    "print(dof)\n",
    "print(\"\\n\")\n",
    "print(\"===P-Value===\")\n",
    "print(p_val)"
   ]
  },
  {
   "cell_type": "markdown",
   "metadata": {},
   "source": [
    "invited_by_user_id is not statistically significant at p=0.05."
   ]
  },
  {
   "cell_type": "markdown",
   "metadata": {},
   "source": [
    "#### invited\n",
    "Based on invited_by_user_id."
   ]
  },
  {
   "cell_type": "code",
   "execution_count": 48,
   "metadata": {},
   "outputs": [],
   "source": [
    "users['invited'] = pd.isnull(users['invited_by_user_id']) == False"
   ]
  },
  {
   "cell_type": "code",
   "execution_count": 49,
   "metadata": {},
   "outputs": [
    {
     "data": {
      "text/plain": [
       "count     12000\n",
       "unique        2\n",
       "top        True\n",
       "freq       6417\n",
       "Name: invited, dtype: object"
      ]
     },
     "execution_count": 49,
     "metadata": {},
     "output_type": "execute_result"
    }
   ],
   "source": [
    "users['invited'].describe()"
   ]
  },
  {
   "cell_type": "code",
   "execution_count": 50,
   "metadata": {},
   "outputs": [
    {
     "data": {
      "image/png": "[encoded data removed]",
      "text/plain": [
       "<Figure size 432x288 with 1 Axes>"
      ]
     },
     "metadata": {},
     "output_type": "display_data"
    }
   ],
   "source": [
    "# Plot invited\n",
    "objects = sorted(users['invited'].unique())\n",
    "y_pos = np.arange(len(objects))\n",
    "performance = users.groupby('invited')['object_id'].count()\n",
    "plt.xticks(y_pos, objects, rotation=90)\n",
    "\n",
    "plt.bar(y_pos, performance, align='center', alpha=0.5)\n",
    "plt.show()"
   ]
  },
  {
   "cell_type": "code",
   "execution_count": 51,
   "metadata": {},
   "outputs": [
    {
     "name": "stdout",
     "output_type": "stream",
     "text": [
      "===Chi2 Stat===\n",
      "9.025572948110002\n",
      "\n",
      "\n",
      "===Degrees of Freedom===\n",
      "1\n",
      "\n",
      "\n",
      "===P-Value===\n",
      "0.0026622846583239388\n"
     ]
    }
   ],
   "source": [
    "#https://towardsdatascience.com/running-chi-square-tests-in-python-with-die-roll-data-b9903817c51b\n",
    "table = pd.crosstab(users['adopted'], users['invited'])\n",
    "chi2_stat, p_val, dof, ex = stats.chi2_contingency(table)\n",
    "print(\"===Chi2 Stat===\")\n",
    "print(chi2_stat)\n",
    "print(\"\\n\")\n",
    "print(\"===Degrees of Freedom===\")\n",
    "print(dof)\n",
    "print(\"\\n\")\n",
    "print(\"===P-Value===\")\n",
    "print(p_val)"
   ]
  },
  {
   "cell_type": "markdown",
   "metadata": {},
   "source": [
    "Invited is statistically significant at p=0.05."
   ]
  },
  {
   "cell_type": "markdown",
   "metadata": {},
   "source": [
    "# Build Model"
   ]
  },
  {
   "cell_type": "code",
   "execution_count": 52,
   "metadata": {},
   "outputs": [],
   "source": [
    "# Specify features\n",
    "features = [\n",
    "    'creation_quarter',\n",
    "    'days_from_creation',\n",
    "    'creation_source',\n",
    "    'last_session_quarter',\n",
    "    'days_from_last_session',\n",
    "    'logged_in',\n",
    "    'org_id',\n",
    "    'invited'\n",
    "]\n",
    "\n",
    "# Specify label\n",
    "label = [\n",
    "    'adopted'\n",
    "]\n",
    "\n",
    "X = pd.get_dummies(users[features]) # One hot encode categorical features\n",
    "y = users[label]"
   ]
  },
  {
   "cell_type": "code",
   "execution_count": 53,
   "metadata": {},
   "outputs": [],
   "source": [
    "# Split data into training and test sets\n",
    "X_train, X_test, y_train, y_test = train_test_split(X, y, test_size=0.1, random_state=44)"
   ]
  },
  {
   "cell_type": "code",
   "execution_count": 54,
   "metadata": {},
   "outputs": [],
   "source": [
    "# Train classifier\n",
    "clf = XGBClassifier()\n",
    "clf.fit(X_train, y_train.values.ravel())\n",
    "\n",
    "# Generate predictions\n",
    "probabilities = clf.predict_proba(X_test)\n",
    "predictions = clf.predict(X_test)\n",
    "\n",
    "# Calculate model performance\n",
    "logloss_score = log_loss(y_test.values.ravel(), probabilities)\n",
    "accuracy = accuracy_score(y_test.values.ravel(), predictions)"
   ]
  },
  {
   "cell_type": "code",
   "execution_count": 55,
   "metadata": {},
   "outputs": [
    {
     "name": "stdout",
     "output_type": "stream",
     "text": [
      "logloss: 0.07096463514017083\n",
      "accuracy: 0.9741666666666666\n"
     ]
    }
   ],
   "source": [
    "print('logloss:', logloss_score)\n",
    "print('accuracy:', accuracy)"
   ]
  },
  {
   "cell_type": "code",
   "execution_count": 56,
   "metadata": {},
   "outputs": [
    {
     "name": "stdout",
     "output_type": "stream",
     "text": [
      "true_negatives: 1035\n",
      "false_negatives: 23\n",
      "true_positives: 134\n",
      "false_positives: 8\n"
     ]
    }
   ],
   "source": [
    "# Print confusion matrix\n",
    "true_negatives = confusion_matrix(y_test, predictions)[0,0]\n",
    "false_negatives = confusion_matrix(y_test, predictions)[1,0]\n",
    "true_positives = confusion_matrix(y_test, predictions)[1,1]\n",
    "false_positives = confusion_matrix(y_test, predictions)[0,1]\n",
    "\n",
    "print('true_negatives:', true_negatives)\n",
    "print('false_negatives:', false_negatives)\n",
    "print('true_positives:', true_positives)\n",
    "print('false_positives:', false_positives)"
   ]
  },
  {
   "cell_type": "code",
   "execution_count": 57,
   "metadata": {},
   "outputs": [
    {
     "data": {
      "image/png": "[encoded data removed]",
      "text/plain": [
       "<Figure size 432x288 with 1 Axes>"
      ]
     },
     "metadata": {},
     "output_type": "display_data"
    }
   ],
   "source": [
    "# Plot importance of features\n",
    "plot_importance(clf)\n",
    "plt.show()"
   ]
  },
  {
   "cell_type": "code",
   "execution_count": null,
   "metadata": {},
   "outputs": [],
   "source": []
  }
 ],
 "metadata": {
  "kernelspec": {
   "display_name": "Python 3",
   "language": "python",
   "name": "python3"
  },
  "language_info": {
   "codemirror_mode": {
    "name": "ipython",
    "version": 3
   },
   "file_extension": ".py",
   "mimetype": "text/x-python",
   "name": "python",
   "nbconvert_exporter": "python",
   "pygments_lexer": "ipython3",
   "version": "3.6.5"
  }
 },
 "nbformat": 4,
 "nbformat_minor": 2
}
