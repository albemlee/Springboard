{
 "cells": [
  {
   "cell_type": "markdown",
   "metadata": {},
   "source": [
    "# What is the True Normal Human Body Temperature? \n",
    "\n",
    "#### Background\n",
    "\n",
    "The mean normal body temperature was held to be 37$^{\\circ}$C or 98.6$^{\\circ}$F for more than 120 years since it was first conceptualized and reported by Carl Wunderlich in a famous 1868 book. But, is this value statistically correct?"
   ]
  },
  {
   "cell_type": "markdown",
   "metadata": {},
   "source": [
    "<h3>Exercises</h3>\n",
    "\n",
    "<p>In this exercise, you will analyze a dataset of human body temperatures and employ the concepts of hypothesis testing, confidence intervals, and statistical significance.</p>\n",
    "\n",
    "<p>Answer the following questions <b>in this notebook below and submit to your Github account</b>.</p> \n",
    "\n",
    "<ol>\n",
    "<li>  Is the distribution of body temperatures normal? \n",
    "    <ul>\n",
    "    <li> Although this is not a requirement for the Central Limit Theorem to hold (read the introduction on Wikipedia's page about the CLT carefully: https://en.wikipedia.org/wiki/Central_limit_theorem), it gives us some peace of mind that the population may also be normally distributed if we assume that this sample is representative of the population.\n",
    "    <li> Think about the way you're going to check for the normality of the distribution. Graphical methods are usually used first, but there are also other ways: https://en.wikipedia.org/wiki/Normality_test\n",
    "    </ul>\n",
    "<li>  Is the sample size large? Are the observations independent?\n",
    "    <ul>\n",
    "    <li> Remember that this is a condition for the Central Limit Theorem, and hence the statistical tests we are using, to apply.\n",
    "    </ul>\n",
    "<li>  Is the true population mean really 98.6 degrees F?\n",
    "    <ul>\n",
    "    <li> First, try a bootstrap hypothesis test.\n",
    "    <li> Now, let's try frequentist statistical testing. Would you use a one-sample or two-sample test? Why?\n",
    "    <li> In this situation, is it appropriate to use the $t$ or $z$ statistic? \n",
    "    <li> Now try using the other test. How is the result be different? Why?\n",
    "    </ul>\n",
    "<li>  Draw a small sample of size 10 from the data and repeat both frequentist tests. \n",
    "    <ul>\n",
    "    <li> Which one is the correct one to use? \n",
    "    <li> What do you notice? What does this tell you about the difference in application of the $t$ and $z$ statistic?\n",
    "    </ul>\n",
    "<li>  At what temperature should we consider someone's temperature to be \"abnormal\"?\n",
    "    <ul>\n",
    "    <li> As in the previous example, try calculating everything using the boostrap approach, as well as the frequentist approach.\n",
    "    <li> Start by computing the margin of error and confidence interval. When calculating the confidence interval, keep in mind that you should use the appropriate formula for one draw, and not N draws.\n",
    "    </ul>\n",
    "<li>  Is there a significant difference between males and females in normal temperature?\n",
    "    <ul>\n",
    "    <li> What testing approach did you use and why?\n",
    "    <li> Write a story with your conclusion in the context of the original problem.\n",
    "    </ul>\n",
    "</ol>\n",
    "\n",
    "You can include written notes in notebook cells using Markdown: \n",
    "   - In the control panel at the top, choose Cell > Cell Type > Markdown\n",
    "   - Markdown syntax: http://nestacms.com/docs/creating-content/markdown-cheat-sheet\n",
    "\n",
    "#### Resources\n",
    "\n",
    "+ Information and data sources: http://www.amstat.org/publications/jse/datasets/normtemp.txt, http://www.amstat.org/publications/jse/jse_data_archive.htm\n",
    "+ Markdown syntax: http://nestacms.com/docs/creating-content/markdown-cheat-sheet\n",
    "\n",
    "****"
   ]
  },
  {
   "cell_type": "code",
   "execution_count": 17,
   "metadata": {
    "collapsed": true
   },
   "outputs": [],
   "source": [
    "import pandas as pd\n",
    "\n",
    "df = pd.read_csv('data/human_body_temperature.csv')"
   ]
  },
  {
   "cell_type": "code",
   "execution_count": 18,
   "metadata": {
    "collapsed": true
   },
   "outputs": [],
   "source": [
    "import scipy.stats\n",
    "from statsmodels.stats import weightstats\n",
    "import numpy as np\n",
    "import matplotlib.pyplot as plt"
   ]
  },
  {
   "cell_type": "markdown",
   "metadata": {},
   "source": [
    "## Is the distribution of body temperatures normal?"
   ]
  },
  {
   "cell_type": "markdown",
   "metadata": {},
   "source": [
    "I need to see a list of the available columns and determine which one is body temperature."
   ]
  },
  {
   "cell_type": "code",
   "execution_count": 19,
   "metadata": {},
   "outputs": [
    {
     "data": {
      "text/plain": [
       "Index(['temperature', 'gender', 'heart_rate'], dtype='object')"
      ]
     },
     "execution_count": 19,
     "metadata": {},
     "output_type": "execute_result"
    }
   ],
   "source": [
    "df.columns"
   ]
  },
  {
   "cell_type": "markdown",
   "metadata": {},
   "source": [
    "Out of the three columns, \"temperature\" seems most like to represent body temperature.\n",
    "Next, I would like to see a histogram and normal probability plot."
   ]
  },
  {
   "cell_type": "code",
   "execution_count": 20,
   "metadata": {},
   "outputs": [
    {
     "data": {
      "image/png": "[encoded data removed]",
      "text/plain": [
       "<matplotlib.figure.Figure at 0x1153c1b00>"
      ]
     },
     "metadata": {},
     "output_type": "display_data"
    }
   ],
   "source": [
    "# Used code from stackoverflow: https://stackoverflow.com/questions/46127030/how-to-use-python-to-draw-a-normal-probability-plot-by-using-certain-column-data\n",
    "body_temperatures = df['temperature']\n",
    "\n",
    "fig = plt.figure()\n",
    "fig.set_figheight(5)\n",
    "fig.set_figwidth(15)\n",
    "\n",
    "histogram = plt.subplot(1, 2, 1)\n",
    "histogram.hist(body_temperatures)\n",
    "\n",
    "norm_prob_plot = plt.subplot(1, 2, 2)\n",
    "scipy.stats.probplot(body_temperatures, plot=norm_prob_plot)\n",
    "\n",
    "plt.show()"
   ]
  },
  {
   "cell_type": "markdown",
   "metadata": {},
   "source": [
    "At a glance, the data looks normal based on the two plots. There does seem to be a left skew based on the histogram.\n",
    "\n",
    "I will confirm that with the a normal test using scipy."
   ]
  },
  {
   "cell_type": "code",
   "execution_count": 21,
   "metadata": {},
   "outputs": [
    {
     "name": "stdout",
     "output_type": "stream",
     "text": [
      "0.258747986349\n"
     ]
    }
   ],
   "source": [
    "# Documentation for scipy.stats.normaltest: https://docs.scipy.org/doc/scipy/reference/generated/scipy.stats.normaltest.html\n",
    "k2, p = scipy.stats.normaltest(body_temperatures)\n",
    "print(p)"
   ]
  },
  {
   "cell_type": "markdown",
   "metadata": {},
   "source": [
    "At a significance level of 0.05, p>alpha, so we fail to reject the null hypothesis that body temperatures are normally distributed.\n",
    "\n",
    "H_null: Body temperatures are normally distributed <br>\n",
    "H_alternative: Body temperatures are not normally distributed"
   ]
  },
  {
   "cell_type": "markdown",
   "metadata": {},
   "source": [
    "## Is the sample size large? Are the observations independent?"
   ]
  },
  {
   "cell_type": "code",
   "execution_count": 22,
   "metadata": {},
   "outputs": [
    {
     "name": "stdout",
     "output_type": "stream",
     "text": [
      "There are 130 observation in the dataset\n",
      "There are 127 unique observation in the dataset\n"
     ]
    }
   ],
   "source": [
    "print(\"There are \" + str(len(df)) + \" observation in the dataset\")\n",
    "print(\"There are \" + str(len(df.drop_duplicates())) + \" unique observation in the dataset\")"
   ]
  },
  {
   "cell_type": "markdown",
   "metadata": {},
   "source": [
    "There are 130 observations, so it is a large dataset (more than 30 observations). Given that most of the observations are unique, it is reasonable to assume that they were collected independently."
   ]
  },
  {
   "cell_type": "markdown",
   "metadata": {},
   "source": [
    "## Is the true population mean really 98.6 degrees F?"
   ]
  },
  {
   "cell_type": "markdown",
   "metadata": {},
   "source": [
    "#### Based on bootstrap replicates"
   ]
  },
  {
   "cell_type": "markdown",
   "metadata": {},
   "source": [
    "I need to make a function that generates bootstrap replicates for a function, and use it to generate a 1000 bootstrap replicates."
   ]
  },
  {
   "cell_type": "code",
   "execution_count": 23,
   "metadata": {},
   "outputs": [],
   "source": [
    "def generate_bootstrap_replicates(data, func):\n",
    "    sample = np.random.choice(data, len(data))\n",
    "    return func(sample)\n",
    "\n",
    "bs_replicates = []\n",
    "for i in range(1000):\n",
    "    bs_replicates.append(generate_bootstrap_replicates(body_temperatures, np.mean))"
   ]
  },
  {
   "cell_type": "markdown",
   "metadata": {},
   "source": [
    "Next, I use a two-tailed test to determine whether the mean is 98.6 (with significance level of 0.05)\n",
    "\n",
    "H_null: Population mean is 98.6 <br>\n",
    "H_alternative: Population mean is not 98.6"
   ]
  },
  {
   "cell_type": "code",
   "execution_count": 24,
   "metadata": {},
   "outputs": [
    {
     "name": "stdout",
     "output_type": "stream",
     "text": [
      "[ 98.12615385  98.36463462]\n"
     ]
    }
   ],
   "source": [
    "alpha = 5 # significance level (percentage)\n",
    "confidence_interval = np.percentile(bs_replicates, [alpha/2, 100 - alpha/2])\n",
    "print(confidence_interval)"
   ]
  },
  {
   "cell_type": "markdown",
   "metadata": {},
   "source": [
    "Because 98.6 does not fall within the 95% confidence interval, we reject the null hypothesis that the mean is 98.6, and conclude that the mean is not 98.6."
   ]
  },
  {
   "cell_type": "markdown",
   "metadata": {},
   "source": [
    "#### Based on frequentist statistical testing"
   ]
  },
  {
   "cell_type": "markdown",
   "metadata": {},
   "source": [
    "I will use a one-sample test because I am comparing the data (body temperatures) to a single number (98.6). I will use z-score because I have a large sample size (>30 observations)\n",
    "\n",
    "H_null: Population mean is 98.6 <br>\n",
    "H_alternative: Population mean is not 98.6"
   ]
  },
  {
   "cell_type": "code",
   "execution_count": 25,
   "metadata": {},
   "outputs": [
    {
     "name": "stdout",
     "output_type": "stream",
     "text": [
      "The p-value from the z-test is 4.9021570141e-08\n"
     ]
    }
   ],
   "source": [
    "z_score, p_value = weightstats.ztest(body_temperatures, value=98.6, alternative='two-sided')\n",
    "print(\"The p-value from the z-test is\", p_value)"
   ]
  },
  {
   "cell_type": "markdown",
   "metadata": {},
   "source": [
    "At a significance level of 0.05, p<alpha, so we reject the null hypothesis that the population mean is 98.6."
   ]
  },
  {
   "cell_type": "code",
   "execution_count": 26,
   "metadata": {},
   "outputs": [
    {
     "name": "stdout",
     "output_type": "stream",
     "text": [
      "The p-value from the t-test is 2.41063204156e-07\n"
     ]
    }
   ],
   "source": [
    "t_value, p_value = scipy.stats.ttest_1samp(body_temperatures, 98.6)\n",
    "print(\"The p-value from the t-test is\", p_value)"
   ]
  },
  {
   "cell_type": "markdown",
   "metadata": {},
   "source": [
    "Using a one-sample t-test and significance level of 0.05, we still reject the null hypothesis and conclude the population mean is not 98.6. However, the p value was higher using the t-test because there are more values at the tails of a t-distribution than normal distribution."
   ]
  },
  {
   "cell_type": "markdown",
   "metadata": {},
   "source": [
    "## Draw a small sample of size 10 from the data and repeat both frequentist tests."
   ]
  },
  {
   "cell_type": "code",
   "execution_count": 27,
   "metadata": {},
   "outputs": [
    {
     "name": "stdout",
     "output_type": "stream",
     "text": [
      "The p-value from the z-test is 4.9021570141e-08\n",
      "The p-value from the t-test is 2.41063204156e-07\n"
     ]
    }
   ],
   "source": [
    "# Draw random sample (10)\n",
    "body_temperature_sample = np.random.choice(body_temperatures, 10)\n",
    "\n",
    "# t-test\n",
    "t_value, p_value_t = scipy.stats.ttest_1samp(body_temperatures, 98.6)\n",
    "\n",
    "# z-test\n",
    "z_score, p_value_z = weightstats.ztest(body_temperatures, value=98.6, alternative='two-sided')\n",
    "\n",
    "print(\"The p-value from the z-test is\", p_value_z)\n",
    "print(\"The p-value from the t-test is\", p_value_t)"
   ]
  },
  {
   "cell_type": "markdown",
   "metadata": {},
   "source": [
    "#### Which one is the correct one to use?\n",
    "Since the sample size is small (10 < 30), the t-test is the correct one to use."
   ]
  },
  {
   "cell_type": "markdown",
   "metadata": {},
   "source": [
    "#### What do you notice? What does this tell you about the difference in application of the  tt  and  zz  statistic?\n",
    "Even with a small sample size, the p-value for the t-test is larger. Given that the t distribution has more values at the tails than normal distributions, it is the appropriate model for smaller sample sizes which have looser centrality."
   ]
  },
  {
   "cell_type": "markdown",
   "metadata": {},
   "source": [
    "## At what temperature should we consider someone's temperature to be \"abnormal\"?\n",
    "I will define \"normal\" to be any temperature within three standard deviations of the mean. This is approximately 99.73% of the values."
   ]
  },
  {
   "cell_type": "code",
   "execution_count": 28,
   "metadata": {},
   "outputs": [
    {
     "name": "stdout",
     "output_type": "stream",
     "text": [
      "The margin of error is +/- 2.19953260555\n",
      "Body temperature is abnormally low when it is lower than 96.0496981637\n",
      "Body temperature is abnormally higher when it is higher than 100.448763375\n"
     ]
    }
   ],
   "source": [
    "mean_body_temperature = body_temperatures.mean()\n",
    "stddev_body_temperature = body_temperatures.std()\n",
    "normal_temperatures = scipy.stats.norm.interval(0.9973, loc=mean_body_temperature, scale=stddev_body_temperature)\n",
    "print(\"The margin of error is +/-\", (normal_temperatures[1] - normal_temperatures[0])/len(normal_temperatures))\n",
    "print(\"Body temperature is abnormally low when it is lower than\", normal_temperatures[0])\n",
    "print(\"Body temperature is abnormally higher when it is higher than\", normal_temperatures[1])"
   ]
  },
  {
   "cell_type": "markdown",
   "metadata": {},
   "source": [
    "## Is there a significant difference between males and females in normal temperature?\n",
    "\n",
    "H_null: Male and female body temperatures are not significantly different <br>\n",
    "H_alternative: Male and female body temperatures are significantly different"
   ]
  },
  {
   "cell_type": "code",
   "execution_count": 29,
   "metadata": {},
   "outputs": [
    {
     "name": "stdout",
     "output_type": "stream",
     "text": [
      "There are 65 males\n",
      "There are 65 females\n",
      "The p-value from the z-test is 0.0\n"
     ]
    }
   ],
   "source": [
    "# Get male and female temperatures\n",
    "male_body_temperatures = df.loc[df['gender'] == 'M','temperature']\n",
    "female_body_temperatures = df.loc[df['gender'] == 'F','temperature']\n",
    "print(\"There are\", len(male_body_temperatures), \"males\")\n",
    "print(\"There are\", len(female_body_temperatures), \"females\")\n",
    "\n",
    "# Perform 2-sample z-test\n",
    "z_score, p_value = weightstats.ztest(male_body_temperatures, female_body_temperatures, value=98.6, alternative='two-sided')\n",
    "print(\"The p-value from the z-test is\", p_value)"
   ]
  },
  {
   "cell_type": "markdown",
   "metadata": {},
   "source": [
    "At a significance level of 0.05, we reject the null hypothesis and conclude that male and female body temperatures are significantly different"
   ]
  },
  {
   "cell_type": "markdown",
   "metadata": {},
   "source": [
    "#### What testing approach did you use and why?\n",
    "I used a 2-sample z-test because, I had two different samples (male and female body temperatures), and both samples were large (65 > 30)."
   ]
  },
  {
   "cell_type": "markdown",
   "metadata": {},
   "source": [
    "#### Write a story with your conclusion in the context of the original problem.\n",
    "\n",
    "In 1868, Carl Wunderlich reported that the mean normal body temperature was 98.6$^{\\circ}$F. Using a dataset that was constructed to match data collected for a 1992 paper in the Journal of the American Medical Association, I conducted statistical tests to verify whether Wunderlichs findings are correct.\n",
    "\n",
    "Based on the tests, I concluded that the mean normal body temperature is not 98.6$^{\\circ}$F, as reported by Wunderlichs, and that male and female body temperatures are different. A possible cause for this is improvement in measurement methods for body temperatures between 1868 and 1992 (in other words, better thermometers)."
   ]
  },
  {
   "cell_type": "code",
   "execution_count": null,
   "metadata": {},
   "outputs": [],
   "source": []
  }
 ],
 "metadata": {
  "kernelspec": {
   "display_name": "Python 3",
   "language": "python",
   "name": "python3"
  },
  "language_info": {
   "codemirror_mode": {
    "name": "ipython",
    "version": 3
   },
   "file_extension": ".py",
   "mimetype": "text/x-python",
   "name": "python",
   "nbconvert_exporter": "python",
   "pygments_lexer": "ipython3",
   "version": "3.6.1"
  }
 },
 "nbformat": 4,
 "nbformat_minor": 2
}
