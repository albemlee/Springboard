{
 "cells": [
  {
   "cell_type": "markdown",
   "metadata": {},
   "source": [
    "## Investigating a Drop in User Engagement"
   ]
  },
  {
   "cell_type": "markdown",
   "metadata": {},
   "source": [
    "Here are my solutions to case 1 in the [Mode Analytics SQL Tutorial](https://community.modeanalytics.com/sql/tutorial/a-drop-in-user-engagement/). Data has already been loaded into a PostgreSQL prior to running the code in this notebook."
   ]
  },
  {
   "cell_type": "markdown",
   "metadata": {},
   "source": [
    "### Overview"
   ]
  },
  {
   "cell_type": "markdown",
   "metadata": {},
   "source": [
    "There has been a recent drop in engagement , and the Product Team would like to know what data-driven actions they can take to address the problem.\n",
    "\n",
    "[Engagement information](https://modeanalytics.com/modeanalytics/reports/cbb8c291ee96/runs/7925c979521e/viz1/cfcdb6b78885)"
   ]
  },
  {
   "cell_type": "markdown",
   "metadata": {},
   "source": [
    "### Has there been a slowdown in growth?"
   ]
  },
  {
   "cell_type": "code",
   "execution_count": 1,
   "metadata": {
    "collapsed": true
   },
   "outputs": [],
   "source": [
    "# Load required libraries\n",
    "import pandas as pd\n",
    "import psycopg2\n",
    "import matplotlib.pyplot as plt\n",
    "%matplotlib inline"
   ]
  },
  {
   "cell_type": "code",
   "execution_count": 2,
   "metadata": {},
   "outputs": [
    {
     "name": "stdout",
     "output_type": "stream",
     "text": [
      "19066\n"
     ]
    }
   ],
   "source": [
    "# Extract fields (created_at and activated_at) from yammer_users table\n",
    "conn = psycopg2.connect(dbname=\"yammer_data\", user=\"postgres\")\n",
    "\n",
    "query = \"\"\"\n",
    "    SELECT created_at, activated_at\n",
    "    FROM yammer_users\n",
    "\"\"\"\n",
    "\n",
    "growth_data = pd.read_sql(query, conn)\n",
    "conn.close()\n",
    "print(len(growth_data))"
   ]
  },
  {
   "cell_type": "code",
   "execution_count": 3,
   "metadata": {},
   "outputs": [
    {
     "name": "stdout",
     "output_type": "stream",
     "text": [
      "                       created_at  activated_at\n",
      "created_at created_at                          \n",
      "2013       1                  332           160\n",
      "           2                  328           160\n",
      "           3                  383           150\n",
      "           4                  410           181\n",
      "           5                  486           214\n",
      "           6                  485           213\n",
      "           7                  608           284\n",
      "           8                  636           316\n",
      "           9                  699           330\n",
      "           10                 826           390\n",
      "           11                 816           399\n",
      "           12                 972           486\n",
      "2014       1                 1083           552\n",
      "           2                 1054           525\n",
      "           3                 1231           615\n",
      "           4                 1419           726\n",
      "           5                 1597           779\n",
      "           6                 1728           873\n",
      "           7                 1983           997\n",
      "           8                 1990          1031\n"
     ]
    },
    {
     "data": {
      "text/plain": [
       "<matplotlib.axes._subplots.AxesSubplot at 0x10794a358>"
      ]
     },
     "execution_count": 3,
     "metadata": {},
     "output_type": "execute_result"
    },
    {
     "data": {
      "image/png": "[encoded data removed]",
      "text/plain": [
       "<matplotlib.figure.Figure at 0x105a33a58>"
      ]
     },
     "metadata": {},
     "output_type": "display_data"
    }
   ],
   "source": [
    "print(growth_data.groupby([growth_data['created_at'].dt.year, growth_data['created_at'].dt.month]).count())\n",
    "growth_data.groupby([growth_data['created_at'].dt.year, growth_data['created_at'].dt.month]).count().plot(kind=\"bar\")"
   ]
  },
  {
   "cell_type": "code",
   "execution_count": 4,
   "metadata": {},
   "outputs": [
    {
     "data": {
      "text/plain": [
       "Timestamp('2014-08-31 20:40:00')"
      ]
     },
     "execution_count": 4,
     "metadata": {},
     "output_type": "execute_result"
    }
   ],
   "source": [
    "max(growth_data['created_at'])"
   ]
  },
  {
   "cell_type": "markdown",
   "metadata": {},
   "source": [
    "There does seem to be a slight slowdown in growth between July and August 2014 (when engagement began to drop). However, I still can't determine whether this growth slowdown is the root cause for the overall dip in engagement."
   ]
  },
  {
   "cell_type": "markdown",
   "metadata": {},
   "source": [
    "### Is engagement driven mostly by new users or existing users?"
   ]
  },
  {
   "cell_type": "code",
   "execution_count": 5,
   "metadata": {},
   "outputs": [
    {
     "name": "stdout",
     "output_type": "stream",
     "text": [
      "321575\n"
     ]
    }
   ],
   "source": [
    "# Extract fields (created_at and activated_at) from yammer_users table\n",
    "conn = psycopg2.connect(dbname=\"yammer_data\", user=\"postgres\")\n",
    "\n",
    "query = \"\"\"\n",
    "    SELECT\n",
    "        users.user_id,\n",
    "        users.created_at,\n",
    "        users.company_id,\n",
    "        events.occured_at,\n",
    "        events.event_name,\n",
    "        events.location,\n",
    "        events.device\n",
    "    FROM yammer_events AS events\n",
    "        LEFT JOIN yammer_users AS users ON events.user_id = users.user_id\n",
    "    WHERE events.event_type = 'engagement'\n",
    "\"\"\"\n",
    "\n",
    "events_data = pd.read_sql(query, conn)\n",
    "conn.close()\n",
    "\n",
    "print(len(events_data))"
   ]
  },
  {
   "cell_type": "code",
   "execution_count": 6,
   "metadata": {},
   "outputs": [
    {
     "name": "stdout",
     "output_type": "stream",
     "text": [
      "                occured_at          created_at  user_time\n",
      "321570 2014-08-31 13:41:00 2014-08-27 13:38:00          4\n",
      "321571 2014-08-31 13:42:00 2014-08-27 13:38:00          4\n",
      "321572 2014-08-31 13:42:00 2014-08-27 13:38:00          4\n",
      "321573 2014-08-31 13:43:00 2014-08-27 13:38:00          4\n",
      "321574 2014-08-31 13:43:00 2014-08-27 13:38:00          4\n"
     ]
    }
   ],
   "source": [
    "# Insert column representing time between creation of user and event\n",
    "events_data['user_time'] = events_data['occured_at'] - events_data['created_at']\n",
    "events_data['user_time'] = events_data['user_time'].apply(lambda x: x.days)\n",
    "print(events_data[['occured_at', 'created_at', 'user_time']].tail())"
   ]
  },
  {
   "cell_type": "code",
   "execution_count": 7,
   "metadata": {},
   "outputs": [
    {
     "data": {
      "text/plain": [
       "<matplotlib.axes._subplots.AxesSubplot at 0x107982240>"
      ]
     },
     "execution_count": 7,
     "metadata": {},
     "output_type": "execute_result"
    },
    {
     "data": {
      "image/png": "[encoded data removed]",
      "text/plain": [
       "<matplotlib.figure.Figure at 0x107821ba8>"
      ]
     },
     "metadata": {},
     "output_type": "display_data"
    }
   ],
   "source": [
    "events_data['user_time'].hist(bins=50)"
   ]
  },
  {
   "cell_type": "code",
   "execution_count": 8,
   "metadata": {},
   "outputs": [
    {
     "name": "stdout",
     "output_type": "stream",
     "text": [
      "0.28355438078208817\n",
      "0.37786519474461633\n",
      "0.4251574282826712\n",
      "0.4602378916271476\n"
     ]
    }
   ],
   "source": [
    "print(len(events_data.loc[events_data['user_time'] < 15, 'user_time']) / len(events_data['user_time']))\n",
    "print(len(events_data.loc[events_data['user_time'] < 30, 'user_time']) / len(events_data['user_time']))\n",
    "print(len(events_data.loc[events_data['user_time'] < 45, 'user_time']) / len(events_data['user_time']))\n",
    "print(len(events_data.loc[events_data['user_time'] < 60, 'user_time']) / len(events_data['user_time']))"
   ]
  },
  {
   "cell_type": "markdown",
   "metadata": {},
   "source": [
    "Almost half of all engagement are from users who were created within the last two months. More than a quarter of all engagement are from users who were created within the last two weeks.\n",
    "\n",
    "It would be worthwhile to further investigate why users are engaging less after two months."
   ]
  },
  {
   "cell_type": "code",
   "execution_count": 9,
   "metadata": {},
   "outputs": [
    {
     "data": {
      "text/html": [
       "<div>\n",
       "<style scoped>\n",
       "    .dataframe tbody tr th:only-of-type {\n",
       "        vertical-align: middle;\n",
       "    }\n",
       "\n",
       "    .dataframe tbody tr th {\n",
       "        vertical-align: top;\n",
       "    }\n",
       "\n",
       "    .dataframe thead th {\n",
       "        text-align: right;\n",
       "    }\n",
       "</style>\n",
       "<table border=\"1\" class=\"dataframe\">\n",
       "  <thead>\n",
       "    <tr style=\"text-align: right;\">\n",
       "      <th></th>\n",
       "      <th></th>\n",
       "      <th>user_id</th>\n",
       "    </tr>\n",
       "    <tr>\n",
       "      <th>occured_at</th>\n",
       "      <th>occured_at</th>\n",
       "      <th></th>\n",
       "    </tr>\n",
       "  </thead>\n",
       "  <tbody>\n",
       "    <tr>\n",
       "      <th rowspan=\"4\" valign=\"top\">2014</th>\n",
       "      <th>5</th>\n",
       "      <td>2361</td>\n",
       "    </tr>\n",
       "    <tr>\n",
       "      <th>6</th>\n",
       "      <td>2605</td>\n",
       "    </tr>\n",
       "    <tr>\n",
       "      <th>7</th>\n",
       "      <td>3058</td>\n",
       "    </tr>\n",
       "    <tr>\n",
       "      <th>8</th>\n",
       "      <td>2795</td>\n",
       "    </tr>\n",
       "  </tbody>\n",
       "</table>\n",
       "</div>"
      ],
      "text/plain": [
       "                       user_id\n",
       "occured_at occured_at         \n",
       "2014       5              2361\n",
       "           6              2605\n",
       "           7              3058\n",
       "           8              2795"
      ]
     },
     "execution_count": 9,
     "metadata": {},
     "output_type": "execute_result"
    }
   ],
   "source": [
    "# Calculate number of unique users who engaged each month\n",
    "events_data[['user_id']].groupby([events_data['occured_at'].dt.year, events_data['occured_at'].dt.month]).nunique()"
   ]
  },
  {
   "cell_type": "code",
   "execution_count": 10,
   "metadata": {},
   "outputs": [
    {
     "data": {
      "text/html": [
       "<div>\n",
       "<style scoped>\n",
       "    .dataframe tbody tr th:only-of-type {\n",
       "        vertical-align: middle;\n",
       "    }\n",
       "\n",
       "    .dataframe tbody tr th {\n",
       "        vertical-align: top;\n",
       "    }\n",
       "\n",
       "    .dataframe thead th {\n",
       "        text-align: right;\n",
       "    }\n",
       "</style>\n",
       "<table border=\"1\" class=\"dataframe\">\n",
       "  <thead>\n",
       "    <tr style=\"text-align: right;\">\n",
       "      <th></th>\n",
       "      <th></th>\n",
       "      <th>user_id</th>\n",
       "    </tr>\n",
       "    <tr>\n",
       "      <th>occured_at</th>\n",
       "      <th>occured_at</th>\n",
       "      <th></th>\n",
       "    </tr>\n",
       "  </thead>\n",
       "  <tbody>\n",
       "    <tr>\n",
       "      <th rowspan=\"4\" valign=\"top\">2014</th>\n",
       "      <th>5</th>\n",
       "      <td>1106</td>\n",
       "    </tr>\n",
       "    <tr>\n",
       "      <th>6</th>\n",
       "      <td>1215</td>\n",
       "    </tr>\n",
       "    <tr>\n",
       "      <th>7</th>\n",
       "      <td>1379</td>\n",
       "    </tr>\n",
       "    <tr>\n",
       "      <th>8</th>\n",
       "      <td>1439</td>\n",
       "    </tr>\n",
       "  </tbody>\n",
       "</table>\n",
       "</div>"
      ],
      "text/plain": [
       "                       user_id\n",
       "occured_at occured_at         \n",
       "2014       5              1106\n",
       "           6              1215\n",
       "           7              1379\n",
       "           8              1439"
      ]
     },
     "execution_count": 10,
     "metadata": {},
     "output_type": "execute_result"
    }
   ],
   "source": [
    "# Calculate number of unique users who engaged each month who were also created within the last 15 days\n",
    "events_data.loc[events_data['user_time'] < 30, ['user_id']].groupby([events_data['occured_at'].dt.year, events_data['occured_at'].dt.month]).nunique()"
   ]
  },
  {
   "cell_type": "code",
   "execution_count": 11,
   "metadata": {},
   "outputs": [
    {
     "data": {
      "text/html": [
       "<div>\n",
       "<style scoped>\n",
       "    .dataframe tbody tr th:only-of-type {\n",
       "        vertical-align: middle;\n",
       "    }\n",
       "\n",
       "    .dataframe tbody tr th {\n",
       "        vertical-align: top;\n",
       "    }\n",
       "\n",
       "    .dataframe thead th {\n",
       "        text-align: right;\n",
       "    }\n",
       "</style>\n",
       "<table border=\"1\" class=\"dataframe\">\n",
       "  <thead>\n",
       "    <tr style=\"text-align: right;\">\n",
       "      <th></th>\n",
       "      <th></th>\n",
       "      <th>user_id</th>\n",
       "    </tr>\n",
       "    <tr>\n",
       "      <th>occured_at</th>\n",
       "      <th>occured_at</th>\n",
       "      <th></th>\n",
       "    </tr>\n",
       "  </thead>\n",
       "  <tbody>\n",
       "    <tr>\n",
       "      <th rowspan=\"4\" valign=\"top\">2014</th>\n",
       "      <th>5</th>\n",
       "      <td>0.543414</td>\n",
       "    </tr>\n",
       "    <tr>\n",
       "      <th>6</th>\n",
       "      <td>0.525528</td>\n",
       "    </tr>\n",
       "    <tr>\n",
       "      <th>7</th>\n",
       "      <td>0.517659</td>\n",
       "    </tr>\n",
       "    <tr>\n",
       "      <th>8</th>\n",
       "      <td>0.582111</td>\n",
       "    </tr>\n",
       "  </tbody>\n",
       "</table>\n",
       "</div>"
      ],
      "text/plain": [
       "                        user_id\n",
       "occured_at occured_at          \n",
       "2014       5           0.543414\n",
       "           6           0.525528\n",
       "           7           0.517659\n",
       "           8           0.582111"
      ]
     },
     "execution_count": 11,
     "metadata": {},
     "output_type": "execute_result"
    }
   ],
   "source": [
    "# Calculate proportion of month engaged users who were created within the last 15 days\n",
    "events_data.loc[events_data['user_time'] < 60, ['user_id']].groupby([events_data['occured_at'].dt.year, events_data['occured_at'].dt.month]).nunique() / events_data[['user_id']].groupby([events_data['occured_at'].dt.year, events_data['occured_at'].dt.month]).nunique()"
   ]
  },
  {
   "cell_type": "markdown",
   "metadata": {},
   "source": [
    "Almost half of users each month were created within the last month. As mentioned earlier, it would be worthwhile to investigate why users are engaging less over time.\n",
    "\n",
    "It is also noteworthy that in August 2014, there was a significant boost in the number of engaged users who are new while there was an overall decline in the total number of engaged users. This means that existing users are likely driving the recent engagement decline."
   ]
  },
  {
   "cell_type": "markdown",
   "metadata": {},
   "source": [
    "### Determine why existing users were not engaged"
   ]
  },
  {
   "cell_type": "code",
   "execution_count": 12,
   "metadata": {},
   "outputs": [
    {
     "data": {
      "text/plain": [
       "148001"
      ]
     },
     "execution_count": 12,
     "metadata": {},
     "output_type": "execute_result"
    }
   ],
   "source": [
    "# Existing user defined to be users who have been in the system for more than 2 months\n",
    "existing_user_activity = events_data.loc[events_data['user_time'] < 60, ['occured_at', 'user_id', 'created_at', 'company_id', 'location', 'user_time']]\n",
    "len(existing_user_activity)"
   ]
  },
  {
   "cell_type": "code",
   "execution_count": 13,
   "metadata": {},
   "outputs": [
    {
     "data": {
      "text/html": [
       "<div>\n",
       "<style scoped>\n",
       "    .dataframe tbody tr th:only-of-type {\n",
       "        vertical-align: middle;\n",
       "    }\n",
       "\n",
       "    .dataframe tbody tr th {\n",
       "        vertical-align: top;\n",
       "    }\n",
       "\n",
       "    .dataframe thead th {\n",
       "        text-align: right;\n",
       "    }\n",
       "</style>\n",
       "<table border=\"1\" class=\"dataframe\">\n",
       "  <thead>\n",
       "    <tr style=\"text-align: right;\">\n",
       "      <th></th>\n",
       "      <th></th>\n",
       "      <th>count</th>\n",
       "      <th>unique</th>\n",
       "      <th>top</th>\n",
       "      <th>freq</th>\n",
       "    </tr>\n",
       "    <tr>\n",
       "      <th>occured_at</th>\n",
       "      <th>occured_at</th>\n",
       "      <th></th>\n",
       "      <th></th>\n",
       "      <th></th>\n",
       "      <th></th>\n",
       "    </tr>\n",
       "  </thead>\n",
       "  <tbody>\n",
       "    <tr>\n",
       "      <th rowspan=\"4\" valign=\"top\">2014</th>\n",
       "      <th>5</th>\n",
       "      <td>35410</td>\n",
       "      <td>47</td>\n",
       "      <td>United States</td>\n",
       "      <td>8882</td>\n",
       "    </tr>\n",
       "    <tr>\n",
       "      <th>6</th>\n",
       "      <td>34906</td>\n",
       "      <td>47</td>\n",
       "      <td>United States</td>\n",
       "      <td>9786</td>\n",
       "    </tr>\n",
       "    <tr>\n",
       "      <th>7</th>\n",
       "      <td>41278</td>\n",
       "      <td>47</td>\n",
       "      <td>United States</td>\n",
       "      <td>11153</td>\n",
       "    </tr>\n",
       "    <tr>\n",
       "      <th>8</th>\n",
       "      <td>36407</td>\n",
       "      <td>47</td>\n",
       "      <td>United States</td>\n",
       "      <td>10422</td>\n",
       "    </tr>\n",
       "  </tbody>\n",
       "</table>\n",
       "</div>"
      ],
      "text/plain": [
       "                       count unique            top   freq\n",
       "occured_at occured_at                                    \n",
       "2014       5           35410     47  United States   8882\n",
       "           6           34906     47  United States   9786\n",
       "           7           41278     47  United States  11153\n",
       "           8           36407     47  United States  10422"
      ]
     },
     "execution_count": 13,
     "metadata": {},
     "output_type": "execute_result"
    }
   ],
   "source": [
    "existing_user_activity['location'].groupby([existing_user_activity['occured_at'].dt.year, existing_user_activity['occured_at'].dt.month]).describe()"
   ]
  },
  {
   "cell_type": "code",
   "execution_count": 20,
   "metadata": {
    "collapsed": true
   },
   "outputs": [],
   "source": [
    "monthly_unique_users = pd.DataFrame(columns=['year', 'month', 'user_id', 'user_time','location', 'company_id'])\n",
    "for month in range(5,9):\n",
    "    for user_id in events_data.loc[events_data['occured_at'].dt.month == month, 'user_id'].drop_duplicates():\n",
    "        year = 2014\n",
    "        user_time = min(events_data.loc[(events_data['occured_at'].dt.month == month) & (events_data['user_id'] == user_id), 'user_time'])\n",
    "        location = events_data.loc[(events_data['occured_at'].dt.month == month) & (events_data['user_id'] == user_id), 'location'].drop_duplicates().values[0]\n",
    "        company_id = events_data.loc[(events_data['occured_at'].dt.month == month) & (events_data['user_id'] == user_id), 'company_id'].drop_duplicates().values[0]\n",
    "        monthly_unique_users = monthly_unique_users.append({'year': year,\n",
    "                                                            'month': month,\n",
    "                                                            'user_id': user_id,\n",
    "                                                            'user_time':user_time, \n",
    "                                                            'location': location,\n",
    "                                                            'company_id': company_id}, ignore_index=True)\n",
    "        "
   ]
  },
  {
   "cell_type": "code",
   "execution_count": 21,
   "metadata": {},
   "outputs": [
    {
     "data": {
      "text/html": [
       "<div>\n",
       "<style scoped>\n",
       "    .dataframe tbody tr th:only-of-type {\n",
       "        vertical-align: middle;\n",
       "    }\n",
       "\n",
       "    .dataframe tbody tr th {\n",
       "        vertical-align: top;\n",
       "    }\n",
       "\n",
       "    .dataframe thead th {\n",
       "        text-align: right;\n",
       "    }\n",
       "</style>\n",
       "<table border=\"1\" class=\"dataframe\">\n",
       "  <thead>\n",
       "    <tr style=\"text-align: right;\">\n",
       "      <th></th>\n",
       "      <th>year</th>\n",
       "      <th>month</th>\n",
       "      <th>user_id</th>\n",
       "      <th>user_time</th>\n",
       "      <th>location</th>\n",
       "      <th>company_id</th>\n",
       "    </tr>\n",
       "  </thead>\n",
       "  <tbody>\n",
       "    <tr>\n",
       "      <th>count</th>\n",
       "      <td>10819</td>\n",
       "      <td>10819</td>\n",
       "      <td>10819</td>\n",
       "      <td>10819</td>\n",
       "      <td>10819</td>\n",
       "      <td>10819</td>\n",
       "    </tr>\n",
       "    <tr>\n",
       "      <th>unique</th>\n",
       "      <td>1</td>\n",
       "      <td>4</td>\n",
       "      <td>6142</td>\n",
       "      <td>544</td>\n",
       "      <td>47</td>\n",
       "      <td>4453</td>\n",
       "    </tr>\n",
       "    <tr>\n",
       "      <th>top</th>\n",
       "      <td>2014</td>\n",
       "      <td>7</td>\n",
       "      <td>7670</td>\n",
       "      <td>0</td>\n",
       "      <td>United States</td>\n",
       "      <td>1</td>\n",
       "    </tr>\n",
       "    <tr>\n",
       "      <th>freq</th>\n",
       "      <td>10819</td>\n",
       "      <td>3058</td>\n",
       "      <td>4</td>\n",
       "      <td>3683</td>\n",
       "      <td>3075</td>\n",
       "      <td>594</td>\n",
       "    </tr>\n",
       "  </tbody>\n",
       "</table>\n",
       "</div>"
      ],
      "text/plain": [
       "         year  month  user_id  user_time       location  company_id\n",
       "count   10819  10819    10819      10819          10819       10819\n",
       "unique      1      4     6142        544             47        4453\n",
       "top      2014      7     7670          0  United States           1\n",
       "freq    10819   3058        4       3683           3075         594"
      ]
     },
     "execution_count": 21,
     "metadata": {},
     "output_type": "execute_result"
    }
   ],
   "source": [
    "monthly_unique_users.describe()"
   ]
  },
  {
   "cell_type": "code",
   "execution_count": 31,
   "metadata": {
    "scrolled": true
   },
   "outputs": [
    {
     "data": {
      "text/plain": [
       "United States           437\n",
       "Japan                   111\n",
       "Germany                  90\n",
       "France                   81\n",
       "United Kingdom           62\n",
       "Russia                   56\n",
       "Brazil                   55\n",
       "Italy                    55\n",
       "India                    49\n",
       "Mexico                   38\n",
       "Canada                   38\n",
       "Australia                36\n",
       "Korea                    31\n",
       "Saudi Arabia             21\n",
       "Netherlands              20\n",
       "Indonesia                19\n",
       "Belgium                  16\n",
       "Sweden                   15\n",
       "Spain                    15\n",
       "Turkey                   14\n",
       "Switzerland              13\n",
       "Malaysia                 12\n",
       "Iran                     11\n",
       "United Arab Emirates     11\n",
       "Chile                    10\n",
       "Venezuela                10\n",
       "Denmark                  10\n",
       "Thailand                 10\n",
       "Israel                   10\n",
       "Austria                  10\n",
       "Poland                    9\n",
       "Hong Kong                 9\n",
       "Taiwan                    9\n",
       "Colombia                  8\n",
       "Argentina                 8\n",
       "Finland                   8\n",
       "South Africa              8\n",
       "Nigeria                   7\n",
       "Egypt                     6\n",
       "Iraq                      6\n",
       "Greece                    6\n",
       "Norway                    6\n",
       "Philippines               5\n",
       "Ireland                   5\n",
       "Singapore                 4\n",
       "Portugal                  3\n",
       "Pakistan                  2\n",
       "Name: location, dtype: int64"
      ]
     },
     "execution_count": 31,
     "metadata": {},
     "output_type": "execute_result"
    }
   ],
   "source": [
    "monthly_unique_users.loc[(monthly_unique_users['user_time'] >= 60) & (monthly_unique_users['month'] == 7), 'location'].value_counts()"
   ]
  },
  {
   "cell_type": "code",
   "execution_count": 32,
   "metadata": {
    "scrolled": true
   },
   "outputs": [
    {
     "data": {
      "text/plain": [
       "United States           331\n",
       "Japan                    87\n",
       "Germany                  68\n",
       "France                   56\n",
       "United Kingdom           53\n",
       "Brazil                   49\n",
       "Russia                   44\n",
       "Italy                    43\n",
       "India                    39\n",
       "Mexico                   28\n",
       "Australia                28\n",
       "Canada                   28\n",
       "Korea                    20\n",
       "Netherlands              20\n",
       "Indonesia                18\n",
       "Saudi Arabia             17\n",
       "Spain                    16\n",
       "Sweden                   16\n",
       "Turkey                   12\n",
       "Switzerland              12\n",
       "Malaysia                 12\n",
       "Thailand                 11\n",
       "United Arab Emirates     10\n",
       "Belgium                  10\n",
       "Denmark                   9\n",
       "Egypt                     9\n",
       "Iran                      8\n",
       "Israel                    8\n",
       "Venezuela                 8\n",
       "Poland                    8\n",
       "Austria                   8\n",
       "Colombia                  8\n",
       "Finland                   7\n",
       "Philippines               6\n",
       "Ireland                   6\n",
       "South Africa              6\n",
       "Argentina                 6\n",
       "Taiwan                    6\n",
       "Nigeria                   5\n",
       "Iraq                      5\n",
       "Chile                     5\n",
       "Hong Kong                 5\n",
       "Singapore                 4\n",
       "Pakistan                  4\n",
       "Greece                    3\n",
       "Portugal                  3\n",
       "Norway                    3\n",
       "Name: location, dtype: int64"
      ]
     },
     "execution_count": 32,
     "metadata": {},
     "output_type": "execute_result"
    }
   ],
   "source": [
    "monthly_unique_users.loc[(monthly_unique_users['user_time'] >= 60) & (monthly_unique_users['month'] == 8), 'location'].value_counts()"
   ]
  },
  {
   "cell_type": "markdown",
   "metadata": {},
   "source": [
    "Based on inspection, it looks like there were decreases across all locations."
   ]
  },
  {
   "cell_type": "code",
   "execution_count": 35,
   "metadata": {},
   "outputs": [
    {
     "data": {
      "text/plain": [
       "1    73\n",
       "2    47\n",
       "3    26\n",
       "4    19\n",
       "6    13\n",
       "Name: company_id, dtype: int64"
      ]
     },
     "execution_count": 35,
     "metadata": {},
     "output_type": "execute_result"
    }
   ],
   "source": [
    "monthly_unique_users.loc[(monthly_unique_users['user_time'] >= 60) & (monthly_unique_users['month'] == 7), 'company_id'].value_counts().head()"
   ]
  },
  {
   "cell_type": "code",
   "execution_count": 37,
   "metadata": {},
   "outputs": [
    {
     "data": {
      "text/plain": [
       "1    67\n",
       "2    36\n",
       "3    25\n",
       "4    16\n",
       "8    12\n",
       "Name: company_id, dtype: int64"
      ]
     },
     "execution_count": 37,
     "metadata": {},
     "output_type": "execute_result"
    }
   ],
   "source": [
    "monthly_unique_users.loc[(monthly_unique_users['user_time'] >= 60) & (monthly_unique_users['month'] == 8), 'company_id'].value_counts().head()"
   ]
  },
  {
   "cell_type": "code",
   "execution_count": null,
   "metadata": {
    "collapsed": true
   },
   "outputs": [],
   "source": []
  }
 ],
 "metadata": {
  "kernelspec": {
   "display_name": "Python 3",
   "language": "python",
   "name": "python3"
  },
  "language_info": {
   "codemirror_mode": {
    "name": "ipython",
    "version": 3
   },
   "file_extension": ".py",
   "mimetype": "text/x-python",
   "name": "python",
   "nbconvert_exporter": "python",
   "pygments_lexer": "ipython3",
   "version": "3.6.1"
  }
 },
 "nbformat": 4,
 "nbformat_minor": 2
}
