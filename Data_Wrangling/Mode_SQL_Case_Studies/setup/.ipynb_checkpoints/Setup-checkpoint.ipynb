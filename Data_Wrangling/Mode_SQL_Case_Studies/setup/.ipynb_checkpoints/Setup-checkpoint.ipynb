{
 "cells": [
  {
   "cell_type": "markdown",
   "metadata": {},
   "source": [
    "## Setup environment to complete Mode Analytics Tutorial"
   ]
  },
  {
   "cell_type": "markdown",
   "metadata": {},
   "source": [
    "### Overview"
   ]
  },
  {
   "cell_type": "markdown",
   "metadata": {},
   "source": [
    "In this notebook, I set up the environment to complete the [Mode SQL Analytics Training](https://community.modeanalytics.com/sql/tutorial/sql-business-analytics-training/). The steps I completed are:\n",
    "1. Downloaded required data.\n",
    "2. Uploaded data into PostgreSQL database.\n",
    "\n",
    "Notes:\n",
    "- Data used in this tutorial is fake data. The data is representative of actual Yammer data, but uses fake information instead of real information to protect user privacy."
   ]
  },
  {
   "cell_type": "markdown",
   "metadata": {},
   "source": [
    "### Download required data"
   ]
  },
  {
   "cell_type": "markdown",
   "metadata": {},
   "source": [
    "According to the [instructions](https://community.modeanalytics.com/sql/tutorial/a-drop-in-user-engagement/), the tables required are:\n",
    "1. tutorials.yammer_users\n",
    "2. tutorials.yammer_events\n",
    "3. tutorials.yammer_emails\n",
    "4. tutorials.yammer_users\n",
    "\n",
    "In the Mode Analytics Editor, I ran the following query for each table above to select all rows from the table:\n",
    "\n",
    "\"SELECT * FROM table\"\n",
    "\n",
    "I made sure to uncheck \"Limit 100,\" and I exported each table as a csv file. The csv files are stored in the \"data\" folder.\n"
   ]
  },
  {
   "cell_type": "markdown",
   "metadata": {},
   "source": [
    "### Upload data into PostgreSQL database."
   ]
  },
  {
   "cell_type": "markdown",
   "metadata": {},
   "source": [
    "I loaded the required library to use PostgreSQL"
   ]
  },
  {
   "cell_type": "code",
   "execution_count": 221,
   "metadata": {
    "collapsed": true
   },
   "outputs": [],
   "source": [
    "import psycopg2\n",
    "import io\n",
    "from urllib import request\n",
    "import csv\n",
    "import datetime as dt\n",
    "from datetime import datetime"
   ]
  },
  {
   "cell_type": "markdown",
   "metadata": {},
   "source": [
    "Before I uploaded the data into a database, I first created a new database to store the data."
   ]
  },
  {
   "cell_type": "code",
   "execution_count": 222,
   "metadata": {},
   "outputs": [],
   "source": [
    "# Create Database yammer_data\n",
    "conn = psycopg2.connect(dbname=\"postgres\", user=\"postgres\")\n",
    "conn.autocommit = True\n",
    "cur = conn.cursor()\n",
    "cur.execute(\"DROP DATABASE IF EXISTS yammer_data\")\n",
    "cur.execute(\"CREATE DATABASE yammer_data\")\n",
    "conn.commit()\n",
    "conn.close()"
   ]
  },
  {
   "cell_type": "markdown",
   "metadata": {},
   "source": [
    "I then created tables inside the yammer_data database."
   ]
  },
  {
   "cell_type": "code",
   "execution_count": 223,
   "metadata": {},
   "outputs": [],
   "source": [
    "# Create Table yammer_users\n",
    "conn = psycopg2.connect(dbname=\"yammer_data\", user=\"postgres\")\n",
    "cur = conn.cursor()\n",
    "cur.execute(\"DROP TABLE IF EXISTS yammer_users\")\n",
    "cur.execute(\"\"\"\n",
    "    CREATE TABLE yammer_users(\n",
    "        user_id INTEGER PRIMARY KEY,\n",
    "        created_at TIMESTAMP,\n",
    "        company_id INTEGER,\n",
    "        language VARCHAR(30),\n",
    "        activated_at TIMESTAMP,\n",
    "        state VARCHAR(30)\n",
    "    );\n",
    "\"\"\")\n",
    "conn.commit()\n",
    "\n",
    "conn.close()"
   ]
  },
  {
   "cell_type": "code",
   "execution_count": 233,
   "metadata": {},
   "outputs": [],
   "source": [
    "# Create Table yammer_events\n",
    "conn = psycopg2.connect(dbname=\"yammer_data\", user=\"postgres\")\n",
    "cur = conn.cursor()\n",
    "cur.execute(\"DROP TABLE IF EXISTS yammer_events\")\n",
    "cur.execute(\"\"\"\n",
    "    CREATE TABLE yammer_events(\n",
    "        user_id INTEGER,\n",
    "        occured_at TIMESTAMP,\n",
    "        event_type VARCHAR(30),\n",
    "        event_name VARCHAR(30),\n",
    "        location VARCHAR(30),\n",
    "        device VARCHAR(30),\n",
    "        user_type INTEGER\n",
    "    );\n",
    "\"\"\")\n",
    "conn.commit()\n",
    "\n",
    "conn.close()"
   ]
  },
  {
   "cell_type": "code",
   "execution_count": 235,
   "metadata": {
    "collapsed": true
   },
   "outputs": [],
   "source": [
    "# Create Table yammer_emails\n",
    "conn = psycopg2.connect(dbname=\"yammer_data\", user=\"postgres\")\n",
    "cur = conn.cursor()\n",
    "cur.execute(\"DROP TABLE IF EXISTS yammer_emails\")\n",
    "cur.execute(\"\"\"\n",
    "    CREATE TABLE yammer_emails(\n",
    "        user_id INTEGER,\n",
    "        occured_at TIMESTAMP,\n",
    "        action VARCHAR(30),\n",
    "        user_type INTEGER\n",
    "    );\n",
    "\"\"\")\n",
    "conn.commit()\n",
    "\n",
    "conn.close()"
   ]
  },
  {
   "cell_type": "code",
   "execution_count": 245,
   "metadata": {
    "collapsed": true
   },
   "outputs": [],
   "source": [
    "# Create Table dimension_rollup_periods\n",
    "conn = psycopg2.connect(dbname=\"yammer_data\", user=\"postgres\")\n",
    "cur = conn.cursor()\n",
    "cur.execute(\"DROP TABLE IF EXISTS dimension_rollup_periods\")\n",
    "cur.execute(\"\"\"\n",
    "    CREATE TABLE dimension_rollup_periods(\n",
    "        period_id INTEGER,\n",
    "        time_id TIMESTAMP,\n",
    "        pst_start TIMESTAMP,\n",
    "        pst_end TIMESTAMP,\n",
    "        utc_start TIMESTAMP,\n",
    "        utc_end TIMESTAMP\n",
    "    );\n",
    "\"\"\")\n",
    "conn.commit()\n",
    "\n",
    "conn.close()"
   ]
  },
  {
   "cell_type": "markdown",
   "metadata": {},
   "source": [
    "I copied each table from its csv file in the \"data\" folder to its corresponding table in the yammer_data database."
   ]
  },
  {
   "cell_type": "code",
   "execution_count": 227,
   "metadata": {},
   "outputs": [],
   "source": [
    "# Fill data in yammer_users\n",
    "conn = psycopg2.connect(dbname=\"yammer_data\", user=\"postgres\")\n",
    "cur = conn.cursor()\n",
    "with open('data/yammer_users.csv', 'r') as f:\n",
    "    next(f)\n",
    "    cur.copy_from(f, 'yammer_users', sep=',', null=\"\")\n",
    "conn.commit()\n",
    "conn.close()\n"
   ]
  },
  {
   "cell_type": "code",
   "execution_count": 234,
   "metadata": {},
   "outputs": [],
   "source": [
    "# Fill data in yammer_events\n",
    "conn = psycopg2.connect(dbname=\"yammer_data\", user=\"postgres\")\n",
    "cur = conn.cursor()\n",
    "with open('data/yammer_events.csv', 'r') as f:\n",
    "    next(f)\n",
    "    cur.copy_from(f, 'yammer_events', sep=',', null=\"\")\n",
    "conn.commit()\n",
    "conn.close()"
   ]
  },
  {
   "cell_type": "code",
   "execution_count": 236,
   "metadata": {},
   "outputs": [],
   "source": [
    "# Fill data in yammer_emails\n",
    "conn = psycopg2.connect(dbname=\"yammer_data\", user=\"postgres\")\n",
    "cur = conn.cursor()\n",
    "with open('data/yammer_emails.csv', 'r') as f:\n",
    "    next(f)\n",
    "    cur.copy_from(f, 'yammer_emails', sep=',', null=\"\")\n",
    "conn.commit()\n",
    "conn.close()"
   ]
  },
  {
   "cell_type": "code",
   "execution_count": 246,
   "metadata": {},
   "outputs": [],
   "source": [
    "# Fill data in dimension_rollup_periods\n",
    "conn = psycopg2.connect(dbname=\"yammer_data\", user=\"postgres\")\n",
    "cur = conn.cursor()\n",
    "with open('data/dimension_rollup_periods.csv', 'r') as f:\n",
    "    next(f)\n",
    "    cur.copy_from(f, 'dimension_rollup_periods', sep=',', null=\"\")\n",
    "conn.commit()\n",
    "conn.close()"
   ]
  },
  {
   "cell_type": "markdown",
   "metadata": {},
   "source": [
    "### Check whether data in database tables seem correct"
   ]
  },
  {
   "cell_type": "markdown",
   "metadata": {},
   "source": [
    "Print the first 10 rows of each table and inspect to determine whether data is reasonable"
   ]
  },
  {
   "cell_type": "code",
   "execution_count": 248,
   "metadata": {},
   "outputs": [
    {
     "name": "stdout",
     "output_type": "stream",
     "text": [
      "[(0, datetime.datetime(2013, 1, 1, 20, 59), 5737, 'english', datetime.datetime(2013, 1, 1, 21, 1), 'active'), (1, datetime.datetime(2013, 1, 1, 13, 7), 28, 'english', None, 'pending'), (2, datetime.datetime(2013, 1, 1, 10, 59), 51, 'english', None, 'pending'), (3, datetime.datetime(2013, 1, 1, 18, 40), 2800, 'german', datetime.datetime(2013, 1, 1, 18, 42), 'active'), (4, datetime.datetime(2013, 1, 1, 14, 37), 5110, 'indian', datetime.datetime(2013, 1, 1, 14, 39), 'active'), (5, datetime.datetime(2013, 1, 1, 13, 39), 2463, 'spanish', None, 'pending'), (6, datetime.datetime(2013, 1, 1, 18, 37), 11699, 'english', datetime.datetime(2013, 1, 1, 18, 38), 'active'), (7, datetime.datetime(2013, 1, 1, 16, 19), 4765, 'french', datetime.datetime(2013, 1, 1, 16, 20), 'active'), (8, datetime.datetime(2013, 1, 1, 4, 38), 2698, 'french', datetime.datetime(2013, 1, 1, 4, 40), 'active'), (9, datetime.datetime(2013, 1, 1, 8, 4), 1, 'french', None, 'pending')]\n"
     ]
    }
   ],
   "source": [
    "# Print first 10 rows of yammer_users\n",
    "conn = psycopg2.connect(dbname=\"yammer_data\", user=\"postgres\")\n",
    "cur = conn.cursor()\n",
    "\n",
    "query = \"SELECT * FROM yammer_users LIMIT 10\"\n",
    "cur.execute(query)\n",
    "print(cur.fetchall())\n",
    "\n",
    "conn.commit()\n",
    "conn.close()"
   ]
  },
  {
   "cell_type": "code",
   "execution_count": 249,
   "metadata": {},
   "outputs": [
    {
     "name": "stdout",
     "output_type": "stream",
     "text": [
      "[(10522, datetime.datetime(2014, 5, 2, 11, 2), 'engagement', 'login', 'Japan', 'dell inspiron notebook', 3), (10522, datetime.datetime(2014, 5, 2, 11, 2), 'engagement', 'home_page', 'Japan', 'dell inspiron notebook', 3), (10522, datetime.datetime(2014, 5, 2, 11, 3), 'engagement', 'like_message', 'Japan', 'dell inspiron notebook', 3), (10522, datetime.datetime(2014, 5, 2, 11, 4), 'engagement', 'view_inbox', 'Japan', 'dell inspiron notebook', 3), (10522, datetime.datetime(2014, 5, 2, 11, 3), 'engagement', 'search_run', 'Japan', 'dell inspiron notebook', 3), (10522, datetime.datetime(2014, 5, 2, 11, 3), 'engagement', 'search_run', 'Japan', 'dell inspiron notebook', 3), (10612, datetime.datetime(2014, 5, 1, 9, 59), 'engagement', 'login', 'Netherlands', 'iphone 5', 1), (10612, datetime.datetime(2014, 5, 1, 10, 0), 'engagement', 'like_message', 'Netherlands', 'iphone 5', 1), (10612, datetime.datetime(2014, 5, 1, 10, 0), 'engagement', 'send_message', 'Netherlands', 'iphone 5', 1), (10612, datetime.datetime(2014, 5, 1, 10, 1), 'engagement', 'home_page', 'Netherlands', 'iphone 5', 1)]\n"
     ]
    }
   ],
   "source": [
    "# Print first 10 rows of yammer_events\n",
    "conn = psycopg2.connect(dbname=\"yammer_data\", user=\"postgres\")\n",
    "cur = conn.cursor()\n",
    "\n",
    "query = \"SELECT * FROM yammer_events LIMIT 10\"\n",
    "cur.execute(query)\n",
    "print(cur.fetchall())\n",
    "\n",
    "conn.commit()\n",
    "conn.close()"
   ]
  },
  {
   "cell_type": "code",
   "execution_count": 250,
   "metadata": {},
   "outputs": [
    {
     "name": "stdout",
     "output_type": "stream",
     "text": [
      "[(0, datetime.datetime(2014, 5, 6, 9, 30), 'sent_weekly_digest', 1), (0, datetime.datetime(2014, 5, 13, 9, 30), 'sent_weekly_digest', 1), (0, datetime.datetime(2014, 5, 20, 9, 30), 'sent_weekly_digest', 1), (0, datetime.datetime(2014, 5, 27, 9, 30), 'sent_weekly_digest', 1), (0, datetime.datetime(2014, 6, 3, 9, 30), 'sent_weekly_digest', 1), (0, datetime.datetime(2014, 6, 3, 9, 30), 'email_open', 1), (0, datetime.datetime(2014, 6, 10, 9, 30), 'sent_weekly_digest', 1), (0, datetime.datetime(2014, 6, 10, 9, 30), 'email_open', 1), (0, datetime.datetime(2014, 6, 17, 9, 30), 'sent_weekly_digest', 1), (0, datetime.datetime(2014, 6, 17, 9, 30), 'email_open', 1)]\n"
     ]
    }
   ],
   "source": [
    "# Print first 10 rows of yammer_emails\n",
    "conn = psycopg2.connect(dbname=\"yammer_data\", user=\"postgres\")\n",
    "cur = conn.cursor()\n",
    "\n",
    "query = \"SELECT * FROM yammer_emails LIMIT 10\"\n",
    "cur.execute(query)\n",
    "print(cur.fetchall())\n",
    "\n",
    "conn.commit()\n",
    "conn.close()"
   ]
  },
  {
   "cell_type": "code",
   "execution_count": 251,
   "metadata": {},
   "outputs": [
    {
     "name": "stdout",
     "output_type": "stream",
     "text": [
      "[(1, datetime.datetime(2013, 1, 1, 0, 0), datetime.datetime(2013, 1, 1, 0, 0), datetime.datetime(2013, 1, 2, 0, 0), datetime.datetime(2013, 1, 1, 8, 0), datetime.datetime(2013, 1, 2, 8, 0)), (1, datetime.datetime(2013, 1, 2, 0, 0), datetime.datetime(2013, 1, 2, 0, 0), datetime.datetime(2013, 1, 3, 0, 0), datetime.datetime(2013, 1, 2, 8, 0), datetime.datetime(2013, 1, 3, 8, 0)), (1, datetime.datetime(2013, 1, 3, 0, 0), datetime.datetime(2013, 1, 3, 0, 0), datetime.datetime(2013, 1, 4, 0, 0), datetime.datetime(2013, 1, 3, 8, 0), datetime.datetime(2013, 1, 4, 8, 0)), (1, datetime.datetime(2013, 1, 4, 0, 0), datetime.datetime(2013, 1, 4, 0, 0), datetime.datetime(2013, 1, 5, 0, 0), datetime.datetime(2013, 1, 4, 8, 0), datetime.datetime(2013, 1, 5, 8, 0)), (1, datetime.datetime(2013, 1, 5, 0, 0), datetime.datetime(2013, 1, 5, 0, 0), datetime.datetime(2013, 1, 6, 0, 0), datetime.datetime(2013, 1, 5, 8, 0), datetime.datetime(2013, 1, 6, 8, 0)), (1, datetime.datetime(2013, 1, 6, 0, 0), datetime.datetime(2013, 1, 6, 0, 0), datetime.datetime(2013, 1, 7, 0, 0), datetime.datetime(2013, 1, 6, 8, 0), datetime.datetime(2013, 1, 7, 8, 0)), (1, datetime.datetime(2013, 1, 7, 0, 0), datetime.datetime(2013, 1, 7, 0, 0), datetime.datetime(2013, 1, 8, 0, 0), datetime.datetime(2013, 1, 7, 8, 0), datetime.datetime(2013, 1, 8, 8, 0)), (1, datetime.datetime(2013, 1, 8, 0, 0), datetime.datetime(2013, 1, 8, 0, 0), datetime.datetime(2013, 1, 9, 0, 0), datetime.datetime(2013, 1, 8, 8, 0), datetime.datetime(2013, 1, 9, 8, 0)), (1, datetime.datetime(2013, 1, 9, 0, 0), datetime.datetime(2013, 1, 9, 0, 0), datetime.datetime(2013, 1, 10, 0, 0), datetime.datetime(2013, 1, 9, 8, 0), datetime.datetime(2013, 1, 10, 8, 0)), (1, datetime.datetime(2013, 1, 10, 0, 0), datetime.datetime(2013, 1, 10, 0, 0), datetime.datetime(2013, 1, 11, 0, 0), datetime.datetime(2013, 1, 10, 8, 0), datetime.datetime(2013, 1, 11, 8, 0))]\n"
     ]
    }
   ],
   "source": [
    "# Print first 10 rows of dimension_rollup_periods\n",
    "conn = psycopg2.connect(dbname=\"yammer_data\", user=\"postgres\")\n",
    "cur = conn.cursor()\n",
    "\n",
    "query = \"SELECT * FROM dimension_rollup_periods LIMIT 10\"\n",
    "cur.execute(query)\n",
    "print(cur.fetchall())\n",
    "\n",
    "conn.commit()\n",
    "conn.close()"
   ]
  },
  {
   "cell_type": "code",
   "execution_count": null,
   "metadata": {
    "collapsed": true
   },
   "outputs": [],
   "source": []
  }
 ],
 "metadata": {
  "kernelspec": {
   "display_name": "Python 3",
   "language": "python",
   "name": "python3"
  },
  "language_info": {
   "codemirror_mode": {
    "name": "ipython",
    "version": 3
   },
   "file_extension": ".py",
   "mimetype": "text/x-python",
   "name": "python",
   "nbconvert_exporter": "python",
   "pygments_lexer": "ipython3",
   "version": "3.6.1"
  }
 },
 "nbformat": 4,
 "nbformat_minor": 2
}
